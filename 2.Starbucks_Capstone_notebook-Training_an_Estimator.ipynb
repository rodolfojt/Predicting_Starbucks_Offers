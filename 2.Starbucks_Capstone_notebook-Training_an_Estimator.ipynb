{
 "cells": [
  {
   "cell_type": "markdown",
   "id": "b46e290c",
   "metadata": {},
   "source": [
    "# <p style=\"text-align: center;\"> Starbucks Capstone Challenge\n",
    "\n",
    "<img src=\"./Starbucks_Rewards_App.png\" width=\"400\" height=\"300\">"
   ]
  },
  {
   "cell_type": "code",
   "execution_count": 12,
   "id": "828c1b60",
   "metadata": {},
   "outputs": [],
   "source": [
    "import pandas as pd\n",
    "import numpy as np\n",
    "import math\n",
    "import json\n",
    "import seaborn as sns\n",
    "import boto3\n",
    "import sagemaker\n",
    "from sagemaker import get_execution_role\n",
    "from sagemaker.amazon.amazon_estimator import get_image_uri\n",
    "from sagemaker.estimator import Estimator\n",
    "import plotly.express as px\n",
    "import matplotlib.pyplot as plt\n",
    "from dateutil import parser\n",
    "from datetime import datetime\n",
    "%matplotlib inline"
   ]
  },
  {
   "cell_type": "markdown",
   "id": "43987ea4",
   "metadata": {},
   "source": [
    "## Training a DeepAR Estimator"
   ]
  },
  {
   "cell_type": "code",
   "execution_count": 13,
   "id": "76b6ce5a",
   "metadata": {},
   "outputs": [],
   "source": [
    "# session, role, bucket\n",
    "sagemaker_session = sagemaker.Session()\n",
    "role = get_execution_role()\n",
    "\n",
    "bucket = sagemaker_session.default_bucket()\n",
    "prefix = 'deepar-starbucks-capstone'"
   ]
  },
  {
   "cell_type": "code",
   "execution_count": 10,
   "id": "fc563fc7",
   "metadata": {},
   "outputs": [
    {
     "name": "stderr",
     "output_type": "stream",
     "text": [
      "The method get_image_uri has been renamed in sagemaker>=2.\n",
      "See: https://sagemaker.readthedocs.io/en/stable/v2.html for details.\n",
      "Defaulting to the only supported framework/algorithm version: 1. Ignoring framework/algorithm version: 1.\n"
     ]
    }
   ],
   "source": [
    "image_name = get_image_uri(boto3.Session().region_name, # get the region\n",
    "                           repo_name='forecasting-deepar')"
   ]
  },
  {
   "cell_type": "markdown",
   "id": "1ad8e849",
   "metadata": {},
   "source": [
    "#### Instantiate an Estimator"
   ]
  },
  {
   "cell_type": "code",
   "execution_count": 15,
   "id": "a1778da2",
   "metadata": {},
   "outputs": [
    {
     "name": "stderr",
     "output_type": "stream",
     "text": [
      "train_instance_count has been renamed in sagemaker>=2.\n",
      "See: https://sagemaker.readthedocs.io/en/stable/v2.html for details.\n",
      "train_instance_type has been renamed in sagemaker>=2.\n",
      "See: https://sagemaker.readthedocs.io/en/stable/v2.html for details.\n"
     ]
    }
   ],
   "source": [
    "# dir to save model artifacts\n",
    "s3_output_path = \"s3://{}/{}/output\".format(bucket, prefix)\n",
    "\n",
    "# instantiate a DeepAR estimator\n",
    "estimator = Estimator(sagemaker_session=sagemaker_session,\n",
    "                      image_uri=image_name,\n",
    "                      role=role,\n",
    "                      train_instance_count=1,\n",
    "                      train_instance_type='ml.c4.xlarge',\n",
    "                      output_path=s3_output_path\n",
    "                      )"
   ]
  },
  {
   "cell_type": "markdown",
   "id": "ae2866eb",
   "metadata": {},
   "source": [
    "### Setting Hyperparameters"
   ]
  },
  {
   "cell_type": "markdown",
   "id": "c2e25608",
   "metadata": {},
   "source": [
    " - epochs\n",
    " - time_freq\n",
    " - predictions_length\n",
    " - context_length"
   ]
  },
  {
   "cell_type": "code",
   "execution_count": 16,
   "id": "80e5c71e",
   "metadata": {},
   "outputs": [],
   "source": [
    "freq='H'\n",
    "context_length=28 # same as prediction_length\n",
    "prediction_length = 28\n",
    "\n",
    "hyperparameters = {\n",
    "    \"epochs\": \"50\",\n",
    "    \"time_freq\": freq,\n",
    "    \"prediction_length\": str(prediction_length),\n",
    "    \"context_length\": str(context_length),\n",
    "    \"num_cells\": \"50\",\n",
    "    \"num_layers\": \"2\",\n",
    "    \"mini_batch_size\": \"128\",\n",
    "    \"learning_rate\": \"0.001\",\n",
    "    \"early_stopping_patience\": \"10\"\n",
    "}"
   ]
  },
  {
   "cell_type": "code",
   "execution_count": 17,
   "id": "f6046b7f",
   "metadata": {},
   "outputs": [],
   "source": [
    "# set the hyperparams\n",
    "estimator.set_hyperparameters(**hyperparameters)"
   ]
  },
  {
   "cell_type": "markdown",
   "id": "0c0152ed",
   "metadata": {},
   "source": [
    "### Training Job - Falta pegar o train_path e o test_path"
   ]
  },
  {
   "cell_type": "code",
   "execution_count": null,
   "id": "3dbafc74",
   "metadata": {},
   "outputs": [],
   "source": [
    "%%time\n",
    "# train and test channels\n",
    "data_channels = {\n",
    "    \"train\": train_path,\n",
    "    \"test\": test_path\n",
    "}\n",
    "\n",
    "# fit the estimator\n",
    "estimator.fit(inputs=data_channels)"
   ]
  }
 ],
 "metadata": {
  "kernelspec": {
   "display_name": "conda_mxnet_p36",
   "language": "python",
   "name": "conda_mxnet_p36"
  },
  "language_info": {
   "codemirror_mode": {
    "name": "ipython",
    "version": 3
   },
   "file_extension": ".py",
   "mimetype": "text/x-python",
   "name": "python",
   "nbconvert_exporter": "python",
   "pygments_lexer": "ipython3",
   "version": "3.6.13"
  }
 },
 "nbformat": 4,
 "nbformat_minor": 5
}
