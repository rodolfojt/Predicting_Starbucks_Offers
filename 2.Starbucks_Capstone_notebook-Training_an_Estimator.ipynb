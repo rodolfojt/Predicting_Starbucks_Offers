{
 "cells": [
  {
   "cell_type": "markdown",
   "id": "f1507f6a",
   "metadata": {},
   "source": [
    "# <p style=\"text-align: center;\"> Starbucks Capstone Challenge\n",
    "\n",
    "<img src=\"./Starbucks_Rewards_App.png\" width=\"400\" height=\"300\">"
   ]
  },
  {
   "cell_type": "markdown",
   "id": "66931da9",
   "metadata": {},
   "source": [
    "## 0. Setting up the notebook"
   ]
  },
  {
   "cell_type": "code",
   "execution_count": 1,
   "id": "d88c9c0d",
   "metadata": {},
   "outputs": [],
   "source": [
    "import pandas as pd\n",
    "import numpy as np\n",
    "import math\n",
    "import json\n",
    "import seaborn as sns\n",
    "import boto3\n",
    "import os\n",
    "import sagemaker\n",
    "from sagemaker import get_execution_role\n",
    "from sagemaker.amazon.amazon_estimator import get_image_uri\n",
    "from sagemaker.estimator import Estimator\n",
    "import matplotlib.pyplot as plt\n",
    "from dateutil import parser\n",
    "from datetime import datetime\n",
    "from sklearn import preprocessing\n",
    "import plotly.express as px\n",
    "%matplotlib inline"
   ]
  },
  {
   "cell_type": "code",
   "execution_count": 2,
   "id": "33bab0d6",
   "metadata": {},
   "outputs": [],
   "source": [
    "import sagemaker\n",
    "from sagemaker import get_execution_role\n",
    "from sagemaker.amazon.amazon_estimator import get_image_uri\n",
    "from sagemaker.predictor import csv_serializer"
   ]
  },
  {
   "cell_type": "code",
   "execution_count": 3,
   "id": "40fd6532",
   "metadata": {
    "scrolled": true
   },
   "outputs": [
    {
     "name": "stdout",
     "output_type": "stream",
     "text": [
      "Collecting sagemaker==1.72.0\n",
      "  Downloading sagemaker-1.72.0.tar.gz (297 kB)\n",
      "\u001b[K     |████████████████████████████████| 297 kB 39.7 MB/s eta 0:00:01\n",
      "\u001b[?25hRequirement already satisfied: boto3>=1.14.12 in /home/ec2-user/anaconda3/envs/mxnet_p36/lib/python3.6/site-packages (from sagemaker==1.72.0) (1.17.100)\n",
      "Requirement already satisfied: numpy>=1.9.0 in /home/ec2-user/anaconda3/envs/mxnet_p36/lib/python3.6/site-packages (from sagemaker==1.72.0) (1.19.5)\n",
      "Requirement already satisfied: protobuf>=3.1 in /home/ec2-user/anaconda3/envs/mxnet_p36/lib/python3.6/site-packages (from sagemaker==1.72.0) (3.15.2)\n",
      "Requirement already satisfied: scipy>=0.19.0 in /home/ec2-user/anaconda3/envs/mxnet_p36/lib/python3.6/site-packages (from sagemaker==1.72.0) (1.5.3)\n",
      "Requirement already satisfied: protobuf3-to-dict>=0.1.5 in /home/ec2-user/anaconda3/envs/mxnet_p36/lib/python3.6/site-packages (from sagemaker==1.72.0) (0.1.5)\n",
      "Collecting smdebug-rulesconfig==0.1.4\n",
      "  Downloading smdebug_rulesconfig-0.1.4-py2.py3-none-any.whl (10 kB)\n",
      "Requirement already satisfied: importlib-metadata>=1.4.0 in /home/ec2-user/anaconda3/envs/mxnet_p36/lib/python3.6/site-packages (from sagemaker==1.72.0) (3.7.0)\n",
      "Requirement already satisfied: packaging>=20.0 in /home/ec2-user/anaconda3/envs/mxnet_p36/lib/python3.6/site-packages (from sagemaker==1.72.0) (20.9)\n",
      "Requirement already satisfied: botocore<1.21.0,>=1.20.100 in /home/ec2-user/anaconda3/envs/mxnet_p36/lib/python3.6/site-packages (from boto3>=1.14.12->sagemaker==1.72.0) (1.20.100)\n",
      "Requirement already satisfied: jmespath<1.0.0,>=0.7.1 in /home/ec2-user/anaconda3/envs/mxnet_p36/lib/python3.6/site-packages (from boto3>=1.14.12->sagemaker==1.72.0) (0.10.0)\n",
      "Requirement already satisfied: s3transfer<0.5.0,>=0.4.0 in /home/ec2-user/anaconda3/envs/mxnet_p36/lib/python3.6/site-packages (from boto3>=1.14.12->sagemaker==1.72.0) (0.4.2)\n",
      "Requirement already satisfied: python-dateutil<3.0.0,>=2.1 in /home/ec2-user/anaconda3/envs/mxnet_p36/lib/python3.6/site-packages (from botocore<1.21.0,>=1.20.100->boto3>=1.14.12->sagemaker==1.72.0) (2.8.1)\n",
      "Requirement already satisfied: urllib3<1.27,>=1.25.4 in /home/ec2-user/anaconda3/envs/mxnet_p36/lib/python3.6/site-packages (from botocore<1.21.0,>=1.20.100->boto3>=1.14.12->sagemaker==1.72.0) (1.26.5)\n",
      "Requirement already satisfied: typing-extensions>=3.6.4 in /home/ec2-user/anaconda3/envs/mxnet_p36/lib/python3.6/site-packages (from importlib-metadata>=1.4.0->sagemaker==1.72.0) (3.7.4.3)\n",
      "Requirement already satisfied: zipp>=0.5 in /home/ec2-user/anaconda3/envs/mxnet_p36/lib/python3.6/site-packages (from importlib-metadata>=1.4.0->sagemaker==1.72.0) (3.4.0)\n",
      "Requirement already satisfied: pyparsing>=2.0.2 in /home/ec2-user/anaconda3/envs/mxnet_p36/lib/python3.6/site-packages (from packaging>=20.0->sagemaker==1.72.0) (2.4.7)\n",
      "Requirement already satisfied: six>=1.9 in /home/ec2-user/anaconda3/envs/mxnet_p36/lib/python3.6/site-packages (from protobuf>=3.1->sagemaker==1.72.0) (1.15.0)\n",
      "Building wheels for collected packages: sagemaker\n",
      "  Building wheel for sagemaker (setup.py) ... \u001b[?25ldone\n",
      "\u001b[?25h  Created wheel for sagemaker: filename=sagemaker-1.72.0-py2.py3-none-any.whl size=386358 sha256=09ea764475ddb4dbf558f4c16e2924d5316fc85f13ff2051d8d89fbefbf54f1d\n",
      "  Stored in directory: /home/ec2-user/.cache/pip/wheels/c3/58/70/85faf4437568bfaa4c419937569ba1fe54d44c5db42406bbd7\n",
      "Successfully built sagemaker\n",
      "Installing collected packages: smdebug-rulesconfig, sagemaker\n",
      "  Attempting uninstall: smdebug-rulesconfig\n",
      "    Found existing installation: smdebug-rulesconfig 1.0.1\n",
      "    Uninstalling smdebug-rulesconfig-1.0.1:\n",
      "      Successfully uninstalled smdebug-rulesconfig-1.0.1\n",
      "  Attempting uninstall: sagemaker\n",
      "    Found existing installation: sagemaker 2.45.0\n",
      "    Uninstalling sagemaker-2.45.0:\n",
      "      Successfully uninstalled sagemaker-2.45.0\n",
      "Successfully installed sagemaker-1.72.0 smdebug-rulesconfig-0.1.4\n",
      "\u001b[33mWARNING: You are using pip version 21.1.2; however, version 21.2.3 is available.\n",
      "You should consider upgrading via the '/home/ec2-user/anaconda3/envs/mxnet_p36/bin/python -m pip install --upgrade pip' command.\u001b[0m\n"
     ]
    }
   ],
   "source": [
    "# Make sure that we use SageMaker 1.x\n",
    "!pip install sagemaker==1.72.0"
   ]
  },
  {
   "cell_type": "code",
   "execution_count": 3,
   "id": "3040614b",
   "metadata": {},
   "outputs": [],
   "source": [
    "session = sagemaker.Session()\n",
    "\n",
    "role = get_execution_role()\n",
    "\n",
    "prefix = 'starbucks-xgboost-capstone'"
   ]
  },
  {
   "cell_type": "markdown",
   "id": "1e0694e0",
   "metadata": {},
   "source": [
    "## 1. Training a XGBoost model"
   ]
  },
  {
   "cell_type": "markdown",
   "id": "42e5efd3",
   "metadata": {},
   "source": [
    "At the capstone proposal, I was planning use the DeepAR model to predict how much someone will spend in the next days. However, analysing the data I realize that if would like to identify the customer, i.e. use the person id in the data, I wouldn't have hourly data to use in the DeepAR model. After some attempts, tryng to adapt the data to create a correct and big enough dataset  to train the DeepAR model, I realize that would be a better time investiment using another model. Thus, I chose a Amazon SageMaker XGBoost model.\n",
    "\n",
    "Once we have a regression problem to solve, predict the transaction value to the next few days, we can use a XGBoost model to do that. TALK MORE ABOUT XGBOOST!"
   ]
  },
  {
   "cell_type": "code",
   "execution_count": 4,
   "id": "ce19f3ce",
   "metadata": {},
   "outputs": [
    {
     "name": "stderr",
     "output_type": "stream",
     "text": [
      "'get_image_uri' method will be deprecated in favor of 'ImageURIProvider' class in SageMaker Python SDK v2.\n",
      "There is a more up to date SageMaker XGBoost image. To use the newer image, please set 'repo_version'='1.0-1'. For example:\n",
      "\tget_image_uri(region, 'xgboost', '1.0-1').\n",
      "Parameter image_name will be renamed to image_uri in SageMaker Python SDK v2.\n"
     ]
    }
   ],
   "source": [
    "# Obtained from https://github.com/udacity/sagemaker-deployment/blob/master/Tutorials/Boston%20Housing%20-%20XGBoost%20(Batch%20Transform)%20-%20High%20Level.ipynb\n",
    "# We use this utility method to construct the image name for the training container.\n",
    "container = get_image_uri(session.boto_region_name, 'xgboost')\n",
    "\n",
    "# Now we can construct the estimator object\n",
    "xgb = sagemaker.estimator.Estimator(container, # The image name of the training container\n",
    "                                    role,      # The IAM role to use (our current role in this case)\n",
    "                                    train_instance_count=1, # The number of instances to use for training\n",
    "                                    train_instance_type='ml.m4.xlarge', # The type of instance to use for training\n",
    "                                    output_path='s3://{}/{}/output'.format(session.default_bucket(), prefix),\n",
    "                                                                        # Where to save the output (the model artifacts)\n",
    "                                    sagemaker_session=session) # The current SageMaker session"
   ]
  },
  {
   "cell_type": "code",
   "execution_count": 5,
   "id": "6eeffa68",
   "metadata": {},
   "outputs": [],
   "source": [
    "# Obtained from https://github.com/udacity/sagemaker-deployment/blob/master/Tutorials/Boston%20Housing%20-%20XGBoost%20(Batch%20Transform)%20-%20High%20Level.ipynb\n",
    "xgb.set_hyperparameters(max_depth=20,\n",
    "                        eta=0.2,\n",
    "                        gamma=4,\n",
    "                        min_child_weight=6,\n",
    "                        subsample=0.8,\n",
    "                        objective='reg:linear',\n",
    "                        early_stopping_rounds=20,\n",
    "                        num_round=300)"
   ]
  },
  {
   "cell_type": "code",
   "execution_count": 6,
   "id": "3870bcae",
   "metadata": {},
   "outputs": [],
   "source": [
    "data_dir = 'completed_offers_transactions'\n",
    "\n",
    "train_location = \"s3://sagemaker-us-east-1-839757017467/starbucks-capstone-project/train/train.csv\"\n",
    "val_location   = \"s3://sagemaker-us-east-1-839757017467/starbucks-capstone-project/validation/validation.csv\"\n",
    "test_location  = \"s3://sagemaker-us-east-1-839757017467/starbucks-capstone-project/test/test.csv\""
   ]
  },
  {
   "cell_type": "code",
   "execution_count": 7,
   "id": "4ddb1679",
   "metadata": {},
   "outputs": [
    {
     "name": "stderr",
     "output_type": "stream",
     "text": [
      "'s3_input' class will be renamed to 'TrainingInput' in SageMaker Python SDK v2.\n",
      "'s3_input' class will be renamed to 'TrainingInput' in SageMaker Python SDK v2.\n"
     ]
    }
   ],
   "source": [
    "s3_input_train = sagemaker.s3_input(s3_data=train_location, content_type='csv')\n",
    "s3_input_validation = sagemaker.s3_input(s3_data=val_location, content_type='csv')\n"
   ]
  },
  {
   "cell_type": "code",
   "execution_count": 8,
   "id": "449afb59",
   "metadata": {
    "scrolled": true
   },
   "outputs": [
    {
     "name": "stdout",
     "output_type": "stream",
     "text": [
      "2021-08-11 00:16:11 Starting - Starting the training job...\n",
      "2021-08-11 00:16:15 Starting - Launching requested ML instances......\n",
      "2021-08-11 00:17:12 Starting - Preparing the instances for training.........\n",
      "2021-08-11 00:18:44 Downloading - Downloading input data...\n",
      "2021-08-11 00:19:39 Training - Training image download completed. Training in progress..\u001b[34mArguments: train\u001b[0m\n",
      "\u001b[34m[2021-08-11:00:19:41:INFO] Running standalone xgboost training.\u001b[0m\n",
      "\u001b[34m[2021-08-11:00:19:41:INFO] File size need to be processed in the node: 0.48mb. Available memory size in the node: 8420.02mb\u001b[0m\n",
      "\u001b[34m[2021-08-11:00:19:41:INFO] Determined delimiter of CSV input is ','\u001b[0m\n",
      "\u001b[34m[00:19:41] S3DistributionType set as FullyReplicated\u001b[0m\n",
      "\u001b[34m[00:19:41] 17322x5 matrix with 86610 entries loaded from /opt/ml/input/data/train?format=csv&label_column=0&delimiter=,\u001b[0m\n",
      "\u001b[34m[2021-08-11:00:19:41:INFO] Determined delimiter of CSV input is ','\u001b[0m\n",
      "\u001b[34m[00:19:41] S3DistributionType set as FullyReplicated\u001b[0m\n",
      "\u001b[34m[00:19:41] 8533x5 matrix with 42665 entries loaded from /opt/ml/input/data/validation?format=csv&label_column=0&delimiter=,\u001b[0m\n",
      "\u001b[34m[00:19:41] src/tree/updater_prune.cc:74: tree pruning end, 1 roots, 174 extra nodes, 2 pruned nodes, max_depth=12\u001b[0m\n",
      "\u001b[34m[0]#011train-rmse:16.475#011validation-rmse:16.1827\u001b[0m\n",
      "\u001b[34mMultiple eval metrics have been passed: 'validation-rmse' will be used for early stopping.\n",
      "\u001b[0m\n",
      "\u001b[34mWill train until validation-rmse hasn't improved in 20 rounds.\u001b[0m\n",
      "\u001b[34m[00:19:41] src/tree/updater_prune.cc:74: tree pruning end, 1 roots, 414 extra nodes, 10 pruned nodes, max_depth=20\u001b[0m\n",
      "\u001b[34m[1]#011train-rmse:14.0941#011validation-rmse:13.9038\u001b[0m\n",
      "\u001b[34m[00:19:41] src/tree/updater_prune.cc:74: tree pruning end, 1 roots, 748 extra nodes, 10 pruned nodes, max_depth=20\u001b[0m\n",
      "\u001b[34m[2]#011train-rmse:12.3003#011validation-rmse:12.2503\u001b[0m\n",
      "\u001b[34m[00:19:41] src/tree/updater_prune.cc:74: tree pruning end, 1 roots, 1332 extra nodes, 28 pruned nodes, max_depth=20\u001b[0m\n",
      "\u001b[34m[3]#011train-rmse:10.9564#011validation-rmse:11.1075\u001b[0m\n",
      "\u001b[34m[00:19:41] src/tree/updater_prune.cc:74: tree pruning end, 1 roots, 1360 extra nodes, 30 pruned nodes, max_depth=20\u001b[0m\n",
      "\u001b[34m[4]#011train-rmse:9.94656#011validation-rmse:10.3153\u001b[0m\n",
      "\u001b[34m[00:19:41] src/tree/updater_prune.cc:74: tree pruning end, 1 roots, 1456 extra nodes, 32 pruned nodes, max_depth=20\u001b[0m\n",
      "\u001b[34m[5]#011train-rmse:9.19529#011validation-rmse:9.77786\u001b[0m\n",
      "\u001b[34m[00:19:41] src/tree/updater_prune.cc:74: tree pruning end, 1 roots, 1418 extra nodes, 34 pruned nodes, max_depth=20\u001b[0m\n",
      "\u001b[34m[6]#011train-rmse:8.6568#011validation-rmse:9.43346\u001b[0m\n",
      "\u001b[34m[00:19:41] src/tree/updater_prune.cc:74: tree pruning end, 1 roots, 1890 extra nodes, 40 pruned nodes, max_depth=20\u001b[0m\n",
      "\u001b[34m[7]#011train-rmse:8.22703#011validation-rmse:9.21706\u001b[0m\n",
      "\u001b[34m[00:19:41] src/tree/updater_prune.cc:74: tree pruning end, 1 roots, 1800 extra nodes, 48 pruned nodes, max_depth=20\u001b[0m\n",
      "\u001b[34m[8]#011train-rmse:7.90423#011validation-rmse:9.08428\u001b[0m\n",
      "\u001b[34m[00:19:41] src/tree/updater_prune.cc:74: tree pruning end, 1 roots, 978 extra nodes, 16 pruned nodes, max_depth=20\u001b[0m\n",
      "\u001b[34m[9]#011train-rmse:7.69676#011validation-rmse:8.99922\u001b[0m\n",
      "\u001b[34m[00:19:41] src/tree/updater_prune.cc:74: tree pruning end, 1 roots, 1644 extra nodes, 38 pruned nodes, max_depth=20\u001b[0m\n",
      "\u001b[34m[10]#011train-rmse:7.491#011validation-rmse:8.96318\u001b[0m\n",
      "\u001b[34m[00:19:41] src/tree/updater_prune.cc:74: tree pruning end, 1 roots, 890 extra nodes, 6 pruned nodes, max_depth=20\u001b[0m\n",
      "\u001b[34m[11]#011train-rmse:7.36974#011validation-rmse:8.93774\u001b[0m\n",
      "\u001b[34m[00:19:41] src/tree/updater_prune.cc:74: tree pruning end, 1 roots, 1088 extra nodes, 24 pruned nodes, max_depth=20\u001b[0m\n",
      "\u001b[34m[12]#011train-rmse:7.24942#011validation-rmse:8.92772\u001b[0m\n",
      "\u001b[34m[00:19:41] src/tree/updater_prune.cc:74: tree pruning end, 1 roots, 1086 extra nodes, 34 pruned nodes, max_depth=20\u001b[0m\n",
      "\u001b[34m[13]#011train-rmse:7.14982#011validation-rmse:8.93304\u001b[0m\n",
      "\u001b[34m[00:19:41] src/tree/updater_prune.cc:74: tree pruning end, 1 roots, 918 extra nodes, 14 pruned nodes, max_depth=20\u001b[0m\n",
      "\u001b[34m[14]#011train-rmse:7.07429#011validation-rmse:8.94085\u001b[0m\n",
      "\u001b[34m[00:19:41] src/tree/updater_prune.cc:74: tree pruning end, 1 roots, 1436 extra nodes, 30 pruned nodes, max_depth=20\u001b[0m\n",
      "\u001b[34m[15]#011train-rmse:6.97809#011validation-rmse:8.95643\u001b[0m\n",
      "\u001b[34m[00:19:41] src/tree/updater_prune.cc:74: tree pruning end, 1 roots, 946 extra nodes, 12 pruned nodes, max_depth=20\u001b[0m\n",
      "\u001b[34m[16]#011train-rmse:6.90867#011validation-rmse:8.95955\u001b[0m\n",
      "\u001b[34m[00:19:41] src/tree/updater_prune.cc:74: tree pruning end, 1 roots, 480 extra nodes, 8 pruned nodes, max_depth=20\u001b[0m\n",
      "\u001b[34m[17]#011train-rmse:6.87353#011validation-rmse:8.96948\u001b[0m\n",
      "\u001b[34m[00:19:41] src/tree/updater_prune.cc:74: tree pruning end, 1 roots, 788 extra nodes, 14 pruned nodes, max_depth=20\u001b[0m\n",
      "\u001b[34m[18]#011train-rmse:6.82222#011validation-rmse:8.97682\u001b[0m\n",
      "\u001b[34m[00:19:41] src/tree/updater_prune.cc:74: tree pruning end, 1 roots, 390 extra nodes, 8 pruned nodes, max_depth=20\u001b[0m\n",
      "\u001b[34m[19]#011train-rmse:6.79496#011validation-rmse:8.97696\u001b[0m\n",
      "\u001b[34m[00:19:41] src/tree/updater_prune.cc:74: tree pruning end, 1 roots, 360 extra nodes, 4 pruned nodes, max_depth=20\u001b[0m\n",
      "\u001b[34m[20]#011train-rmse:6.7755#011validation-rmse:8.98343\u001b[0m\n",
      "\u001b[34m[00:19:41] src/tree/updater_prune.cc:74: tree pruning end, 1 roots, 194 extra nodes, 4 pruned nodes, max_depth=20\u001b[0m\n",
      "\u001b[34m[21]#011train-rmse:6.7606#011validation-rmse:8.97765\u001b[0m\n",
      "\u001b[34m[00:19:41] src/tree/updater_prune.cc:74: tree pruning end, 1 roots, 960 extra nodes, 12 pruned nodes, max_depth=20\u001b[0m\n",
      "\u001b[34m[22]#011train-rmse:6.68328#011validation-rmse:8.98189\u001b[0m\n",
      "\u001b[34m[00:19:41] src/tree/updater_prune.cc:74: tree pruning end, 1 roots, 1048 extra nodes, 22 pruned nodes, max_depth=20\u001b[0m\n",
      "\u001b[34m[23]#011train-rmse:6.59927#011validation-rmse:8.97954\u001b[0m\n",
      "\u001b[34m[00:19:41] src/tree/updater_prune.cc:74: tree pruning end, 1 roots, 606 extra nodes, 8 pruned nodes, max_depth=20\u001b[0m\n",
      "\u001b[34m[24]#011train-rmse:6.54959#011validation-rmse:8.98011\u001b[0m\n",
      "\u001b[34m[00:19:41] src/tree/updater_prune.cc:74: tree pruning end, 1 roots, 768 extra nodes, 18 pruned nodes, max_depth=20\u001b[0m\n",
      "\u001b[34m[25]#011train-rmse:6.50463#011validation-rmse:8.98222\u001b[0m\n",
      "\u001b[34m[00:19:41] src/tree/updater_prune.cc:74: tree pruning end, 1 roots, 494 extra nodes, 8 pruned nodes, max_depth=20\u001b[0m\n",
      "\u001b[34m[26]#011train-rmse:6.47464#011validation-rmse:8.98921\u001b[0m\n",
      "\u001b[34m[00:19:41] src/tree/updater_prune.cc:74: tree pruning end, 1 roots, 442 extra nodes, 6 pruned nodes, max_depth=20\u001b[0m\n",
      "\u001b[34m[27]#011train-rmse:6.44157#011validation-rmse:8.99119\u001b[0m\n",
      "\u001b[34m[00:19:41] src/tree/updater_prune.cc:74: tree pruning end, 1 roots, 1396 extra nodes, 32 pruned nodes, max_depth=20\u001b[0m\n",
      "\u001b[34m[28]#011train-rmse:6.35979#011validation-rmse:9.01205\u001b[0m\n",
      "\u001b[34m[00:19:41] src/tree/updater_prune.cc:74: tree pruning end, 1 roots, 650 extra nodes, 24 pruned nodes, max_depth=20\u001b[0m\n",
      "\u001b[34m[29]#011train-rmse:6.32601#011validation-rmse:9.01497\u001b[0m\n",
      "\u001b[34m[00:19:41] src/tree/updater_prune.cc:74: tree pruning end, 1 roots, 960 extra nodes, 38 pruned nodes, max_depth=20\u001b[0m\n",
      "\u001b[34m[30]#011train-rmse:6.27354#011validation-rmse:9.0256\u001b[0m\n",
      "\u001b[34m[00:19:41] src/tree/updater_prune.cc:74: tree pruning end, 1 roots, 536 extra nodes, 12 pruned nodes, max_depth=20\u001b[0m\n",
      "\u001b[34m[31]#011train-rmse:6.24519#011validation-rmse:9.02842\u001b[0m\n",
      "\u001b[34m[00:19:41] src/tree/updater_prune.cc:74: tree pruning end, 1 roots, 374 extra nodes, 12 pruned nodes, max_depth=20\u001b[0m\n",
      "\u001b[34m[32]#011train-rmse:6.22896#011validation-rmse:9.03086\u001b[0m\n",
      "\u001b[34mStopping. Best iteration:\u001b[0m\n",
      "\u001b[34m[12]#011train-rmse:7.24942#011validation-rmse:8.92772\n",
      "\u001b[0m\n",
      "\n",
      "2021-08-11 00:19:51 Uploading - Uploading generated training model\n",
      "2021-08-11 00:19:51 Completed - Training job completed\n",
      "Training seconds: 67\n",
      "Billable seconds: 67\n"
     ]
    }
   ],
   "source": [
    "# Obtained from https://github.com/udacity/sagemaker-deployment/blob/master/Tutorials/Boston%20Housing%20-%20XGBoost%20(Batch%20Transform)%20-%20High%20Level.ipynb\n",
    "\n",
    "xgb.fit({'train': s3_input_train, 'validation': s3_input_validation})"
   ]
  },
  {
   "cell_type": "markdown",
   "id": "fff29f99",
   "metadata": {},
   "source": [
    "## 2. Testing the model"
   ]
  },
  {
   "cell_type": "code",
   "execution_count": 9,
   "id": "f5ab1b97",
   "metadata": {},
   "outputs": [
    {
     "name": "stderr",
     "output_type": "stream",
     "text": [
      "Parameter image will be renamed to image_uri in SageMaker Python SDK v2.\n"
     ]
    }
   ],
   "source": [
    "xgb_transformer = xgb.transformer(instance_count = 1, instance_type = 'ml.m4.xlarge')"
   ]
  },
  {
   "cell_type": "code",
   "execution_count": 10,
   "id": "a0eaa036",
   "metadata": {},
   "outputs": [],
   "source": [
    "xgb_transformer.transform(test_location, content_type='text/csv', split_type='Line')"
   ]
  },
  {
   "cell_type": "code",
   "execution_count": 11,
   "id": "a13195b2",
   "metadata": {
    "scrolled": true
   },
   "outputs": [
    {
     "name": "stdout",
     "output_type": "stream",
     "text": [
      ".................................\n",
      "\u001b[34mArguments: serve\u001b[0m\n",
      "\u001b[34m[2021-08-11 00:25:45 +0000] [1] [INFO] Starting gunicorn 19.9.0\u001b[0m\n",
      "\u001b[34m[2021-08-11 00:25:45 +0000] [1] [INFO] Listening at: http://0.0.0.0:8080 (1)\u001b[0m\n",
      "\u001b[34m[2021-08-11 00:25:45 +0000] [1] [INFO] Using worker: gevent\u001b[0m\n",
      "\u001b[34m[2021-08-11 00:25:45 +0000] [20] [INFO] Booting worker with pid: 20\u001b[0m\n",
      "\u001b[34m[2021-08-11 00:25:45 +0000] [21] [INFO] Booting worker with pid: 21\u001b[0m\n",
      "\u001b[34m[2021-08-11 00:25:45 +0000] [22] [INFO] Booting worker with pid: 22\u001b[0m\n",
      "\u001b[34m[2021-08-11 00:25:45 +0000] [23] [INFO] Booting worker with pid: 23\u001b[0m\n",
      "\u001b[34m/opt/amazon/lib/python3.7/site-packages/gunicorn/workers/ggevent.py:65: MonkeyPatchWarning: Monkey-patching ssl after ssl has already been imported may lead to errors, including RecursionError on Python 3.6. It may also silently lead to incorrect behaviour on Python 3.7. Please monkey-patch earlier. See https://github.com/gevent/gevent/issues/1016. Modules that had direct imports (NOT patched): ['urllib3.util.ssl_ (/opt/amazon/lib/python3.7/site-packages/urllib3/util/ssl_.py)', 'urllib3.util (/opt/amazon/lib/python3.7/site-packages/urllib3/util/__init__.py)']. \n",
      "  monkey.patch_all(subprocess=True)\u001b[0m\n",
      "\u001b[34m/opt/amazon/lib/python3.7/site-packages/gunicorn/workers/ggevent.py:65: MonkeyPatchWarning: Monkey-patching ssl after ssl has already been imported may lead to errors, including RecursionError on Python 3.6. It may also silently lead to incorrect behaviour on Python 3.7. Please monkey-patch earlier. See https://github.com/gevent/gevent/issues/1016. Modules that had direct imports (NOT patched): ['urllib3.util.ssl_ (/opt/amazon/lib/python3.7/site-packages/urllib3/util/ssl_.py)', 'urllib3.util (/opt/amazon/lib/python3.7/site-packages/urllib3/util/__init__.py)']. \n",
      "  monkey.patch_all(subprocess=True)\u001b[0m\n",
      "\u001b[34m[2021-08-11:00:25:45:INFO] Model loaded successfully for worker : 20\u001b[0m\n",
      "\u001b[34m[2021-08-11:00:25:45:INFO] Model loaded successfully for worker : 21\u001b[0m\n",
      "\u001b[34m/opt/amazon/lib/python3.7/site-packages/gunicorn/workers/ggevent.py:65: MonkeyPatchWarning: Monkey-patching ssl after ssl has already been imported may lead to errors, including RecursionError on Python 3.6. It may also silently lead to incorrect behaviour on Python 3.7. Please monkey-patch earlier. See https://github.com/gevent/gevent/issues/1016. Modules that had direct imports (NOT patched): ['urllib3.util.ssl_ (/opt/amazon/lib/python3.7/site-packages/urllib3/util/ssl_.py)', 'urllib3.util (/opt/amazon/lib/python3.7/site-packages/urllib3/util/__init__.py)']. \n",
      "  monkey.patch_all(subprocess=True)\u001b[0m\n",
      "\u001b[34m[2021-08-11:00:25:45:INFO] Model loaded successfully for worker : 22\u001b[0m\n",
      "\u001b[34m/opt/amazon/lib/python3.7/site-packages/gunicorn/workers/ggevent.py:65: MonkeyPatchWarning: Monkey-patching ssl after ssl has already been imported may lead to errors, including RecursionError on Python 3.6. It may also silently lead to incorrect behaviour on Python 3.7. Please monkey-patch earlier. See https://github.com/gevent/gevent/issues/1016. Modules that had direct imports (NOT patched): ['urllib3.util.ssl_ (/opt/amazon/lib/python3.7/site-packages/urllib3/util/ssl_.py)', 'urllib3.util (/opt/amazon/lib/python3.7/site-packages/urllib3/util/__init__.py)']. \n",
      "  monkey.patch_all(subprocess=True)\u001b[0m\n",
      "\u001b[34m[2021-08-11:00:25:45:INFO] Model loaded successfully for worker : 23\u001b[0m\n",
      "\u001b[34m[2021-08-11:00:25:49:INFO] Sniff delimiter as ','\u001b[0m\n",
      "\u001b[34m[2021-08-11:00:25:49:INFO] Determined delimiter of CSV input is ','\u001b[0m\n",
      "\u001b[32m2021-08-11T00:25:49.142:[sagemaker logs]: MaxConcurrentTransforms=4, MaxPayloadInMB=6, BatchStrategy=MULTI_RECORD\u001b[0m\n"
     ]
    }
   ],
   "source": [
    "xgb_transformer.wait()"
   ]
  },
  {
   "cell_type": "code",
   "execution_count": 12,
   "id": "793d2e9b",
   "metadata": {},
   "outputs": [
    {
     "name": "stdout",
     "output_type": "stream",
     "text": [
      "download: s3://sagemaker-us-east-1-839757017467/xgboost-2021-08-11-00-20-24-726/test.csv.out to completed_offers_transactions/test.csv.out\r\n"
     ]
    }
   ],
   "source": [
    "# Download the output for test set\n",
    "!aws s3 cp --recursive $xgb_transformer.output_path $data_dir"
   ]
  },
  {
   "cell_type": "code",
   "execution_count": 54,
   "id": "132cac49",
   "metadata": {},
   "outputs": [],
   "source": [
    "Y_pred = pd.read_csv(os.path.join(data_dir, 'test.csv.out'), header=None)\n",
    "Y_pred.rename(columns={0:'Predictions'}, inplace=True)"
   ]
  },
  {
   "cell_type": "code",
   "execution_count": 55,
   "id": "31def255",
   "metadata": {},
   "outputs": [],
   "source": [
    "test_to_plot_key = os.path.join(data_dir, 'test_to_plot.csv')\n",
    "\n",
    "Y_test = pd.read_csv(test_to_plot_key, header=None, usecols=[0])\n",
    "Y_test.rename(columns={0:'Test Data'}, inplace=True)"
   ]
  },
  {
   "cell_type": "markdown",
   "id": "7c7fc3f9",
   "metadata": {},
   "source": [
    "#### Plotting predictions"
   ]
  },
  {
   "cell_type": "code",
   "execution_count": 56,
   "id": "8a9acc2b",
   "metadata": {
    "scrolled": false
   },
   "outputs": [
    {
     "data": {
      "application/vnd.plotly.v1+json": {
       "config": {
        "plotlyServerURL": "https://plot.ly"
       },
       "data": [
        {
         "hovertemplate": "variable=Predictions<br>index=%{x}<br>value=%{y}<extra></extra>",
         "legendgroup": "Predictions",
         "line": {
          "color": "#636efa",
          "dash": "solid"
         },
         "mode": "lines",
         "name": "Predictions",
         "orientation": "v",
         "showlegend": true,
         "type": "scatter",
         "x": [
          1100,
          1101,
          1102,
          1103,
          1104,
          1105,
          1106,
          1107,
          1108,
          1109,
          1110,
          1111,
          1112,
          1113,
          1114,
          1115,
          1116,
          1117,
          1118,
          1119,
          1120,
          1121,
          1122,
          1123,
          1124,
          1125,
          1126,
          1127,
          1128,
          1129,
          1130,
          1131,
          1132,
          1133,
          1134,
          1135,
          1136,
          1137,
          1138,
          1139,
          1140,
          1141,
          1142,
          1143,
          1144,
          1145,
          1146,
          1147,
          1148,
          1149,
          1150,
          1151,
          1152,
          1153,
          1154,
          1155,
          1156,
          1157,
          1158,
          1159,
          1160,
          1161,
          1162,
          1163,
          1164,
          1165,
          1166,
          1167,
          1168,
          1169,
          1170,
          1171,
          1172,
          1173,
          1174,
          1175,
          1176,
          1177,
          1178,
          1179,
          1180,
          1181,
          1182,
          1183,
          1184,
          1185,
          1186,
          1187,
          1188,
          1189,
          1190,
          1191,
          1192,
          1193,
          1194,
          1195,
          1196,
          1197,
          1198,
          1199
         ],
         "xaxis": "x",
         "y": [
          21.62000846862793,
          14.07679271697998,
          17.850112915039062,
          19.204198837280273,
          15.8219575881958,
          19.4769287109375,
          23.55709648132324,
          17.85906982421875,
          21.822111129760746,
          15.641828536987305,
          6.594830989837647,
          22.256399154663086,
          18.610811233520508,
          22.256399154663086,
          4.79974365234375,
          18.7546443939209,
          16.338207244873047,
          17.226842880249027,
          14.661712646484375,
          15.2923583984375,
          18.753353118896484,
          20.648584365844727,
          13.381399154663086,
          23.266685485839844,
          18.47650909423828,
          13.698983192443848,
          18.018138885498047,
          14.634949684143065,
          19.773988723754886,
          21.28266143798828,
          16.923511505126953,
          22.684659957885746,
          16.793024063110348,
          15.93431282043457,
          11.643214225769045,
          14.200420379638672,
          19.0036563873291,
          20.55986785888672,
          18.037736892700195,
          17.662975311279297,
          18.488445281982425,
          12.64798069000244,
          19.69422149658203,
          16.557195663452152,
          18.449214935302734,
          15.41137981414795,
          21.24448776245117,
          17.939870834350586,
          18.2041130065918,
          11.73298168182373,
          16.896734237670902,
          16.098934173583984,
          16.589046478271484,
          19.18218231201172,
          18.025440216064453,
          17.518421173095707,
          21.69776725769043,
          17.609699249267578,
          16.036846160888672,
          15.936010360717773,
          16.818313598632812,
          16.333806991577152,
          16.985198974609375,
          20.502355575561523,
          17.747648239135742,
          20.42950820922852,
          14.134888648986815,
          14.213388442993164,
          11.035802841186523,
          19.56758689880371,
          18.72066307067871,
          20.99063491821289,
          18.352771759033203,
          16.91859245300293,
          16.560914993286133,
          15.793855667114258,
          16.661951065063473,
          20.619882583618164,
          5.471572399139403,
          16.621278762817386,
          16.005340576171875,
          15.35779857635498,
          19.20824241638184,
          23.95026588439941,
          18.46682548522949,
          11.853946685791016,
          17.829402923583984,
          1.4093847274780271,
          11.114177703857422,
          20.295373916625977,
          19.33527183532715,
          17.66192054748535,
          15.49431610107422,
          16.66554069519043,
          18.483701705932614,
          21.07680892944336,
          18.28055191040039,
          15.424721717834473,
          13.178550720214846,
          22.619140625
         ],
         "yaxis": "y"
        },
        {
         "hovertemplate": "variable=Test Data<br>index=%{x}<br>value=%{y}<extra></extra>",
         "legendgroup": "Test Data",
         "line": {
          "color": "#EF553B",
          "dash": "solid"
         },
         "mode": "lines",
         "name": "Test Data",
         "orientation": "v",
         "showlegend": true,
         "type": "scatter",
         "x": [
          1100,
          1101,
          1102,
          1103,
          1104,
          1105,
          1106,
          1107,
          1108,
          1109,
          1110,
          1111,
          1112,
          1113,
          1114,
          1115,
          1116,
          1117,
          1118,
          1119,
          1120,
          1121,
          1122,
          1123,
          1124,
          1125,
          1126,
          1127,
          1128,
          1129,
          1130,
          1131,
          1132,
          1133,
          1134,
          1135,
          1136,
          1137,
          1138,
          1139,
          1140,
          1141,
          1142,
          1143,
          1144,
          1145,
          1146,
          1147,
          1148,
          1149,
          1150,
          1151,
          1152,
          1153,
          1154,
          1155,
          1156,
          1157,
          1158,
          1159,
          1160,
          1161,
          1162,
          1163,
          1164,
          1165,
          1166,
          1167,
          1168,
          1169,
          1170,
          1171,
          1172,
          1173,
          1174,
          1175,
          1176,
          1177,
          1178,
          1179,
          1180,
          1181,
          1182,
          1183,
          1184,
          1185,
          1186,
          1187,
          1188,
          1189,
          1190,
          1191,
          1192,
          1193,
          1194,
          1195,
          1196,
          1197,
          1198,
          1199
         ],
         "xaxis": "x",
         "y": [
          23.31,
          24.98,
          19.3,
          17.94,
          25.01,
          18.65,
          20.67,
          9.23,
          22.18,
          9.12,
          6.07,
          21.73,
          13.85,
          21.73,
          6.07,
          10.68,
          29.31,
          34.77,
          23.95,
          22.19,
          19.19,
          17.57,
          15.71,
          21.41,
          7.77,
          20.22,
          8.45,
          15.03,
          10.5,
          20.37,
          16.33,
          21.95,
          13.76,
          21.95,
          17.98,
          21.51,
          27.26,
          8.07,
          25.98,
          14.83,
          20.87,
          13.79,
          13.49,
          19.79,
          13,
          6.06,
          24.53,
          10.39,
          5.2,
          19.09,
          19.9,
          22,
          17.98,
          14.83,
          22.7,
          10.96,
          42.1,
          18.85,
          18.43,
          11.5,
          18.11,
          28.13,
          15.61,
          17.66,
          20.02,
          19.38,
          14.58,
          13.03,
          8.45,
          15.61,
          24.21,
          21.08,
          5.24,
          20.41,
          24.21,
          25.49,
          18.89,
          11.4,
          7.8,
          24.83,
          25.21,
          20.89,
          12.58,
          19.17,
          11.56,
          11.48,
          8.72,
          1.53,
          8.72,
          25.15,
          15.23,
          11.48,
          15.87,
          11.69,
          21.03,
          17.34,
          27.04,
          15.23,
          11.16,
          17.11
         ],
         "yaxis": "y"
        }
       ],
       "layout": {
        "legend": {
         "title": {
          "text": "variable"
         },
         "tracegroupgap": 0
        },
        "margin": {
         "t": 60
        },
        "template": {
         "data": {
          "bar": [
           {
            "error_x": {
             "color": "#2a3f5f"
            },
            "error_y": {
             "color": "#2a3f5f"
            },
            "marker": {
             "line": {
              "color": "#E5ECF6",
              "width": 0.5
             }
            },
            "type": "bar"
           }
          ],
          "barpolar": [
           {
            "marker": {
             "line": {
              "color": "#E5ECF6",
              "width": 0.5
             }
            },
            "type": "barpolar"
           }
          ],
          "carpet": [
           {
            "aaxis": {
             "endlinecolor": "#2a3f5f",
             "gridcolor": "white",
             "linecolor": "white",
             "minorgridcolor": "white",
             "startlinecolor": "#2a3f5f"
            },
            "baxis": {
             "endlinecolor": "#2a3f5f",
             "gridcolor": "white",
             "linecolor": "white",
             "minorgridcolor": "white",
             "startlinecolor": "#2a3f5f"
            },
            "type": "carpet"
           }
          ],
          "choropleth": [
           {
            "colorbar": {
             "outlinewidth": 0,
             "ticks": ""
            },
            "type": "choropleth"
           }
          ],
          "contour": [
           {
            "colorbar": {
             "outlinewidth": 0,
             "ticks": ""
            },
            "colorscale": [
             [
              0,
              "#0d0887"
             ],
             [
              0.1111111111111111,
              "#46039f"
             ],
             [
              0.2222222222222222,
              "#7201a8"
             ],
             [
              0.3333333333333333,
              "#9c179e"
             ],
             [
              0.4444444444444444,
              "#bd3786"
             ],
             [
              0.5555555555555556,
              "#d8576b"
             ],
             [
              0.6666666666666666,
              "#ed7953"
             ],
             [
              0.7777777777777778,
              "#fb9f3a"
             ],
             [
              0.8888888888888888,
              "#fdca26"
             ],
             [
              1,
              "#f0f921"
             ]
            ],
            "type": "contour"
           }
          ],
          "contourcarpet": [
           {
            "colorbar": {
             "outlinewidth": 0,
             "ticks": ""
            },
            "type": "contourcarpet"
           }
          ],
          "heatmap": [
           {
            "colorbar": {
             "outlinewidth": 0,
             "ticks": ""
            },
            "colorscale": [
             [
              0,
              "#0d0887"
             ],
             [
              0.1111111111111111,
              "#46039f"
             ],
             [
              0.2222222222222222,
              "#7201a8"
             ],
             [
              0.3333333333333333,
              "#9c179e"
             ],
             [
              0.4444444444444444,
              "#bd3786"
             ],
             [
              0.5555555555555556,
              "#d8576b"
             ],
             [
              0.6666666666666666,
              "#ed7953"
             ],
             [
              0.7777777777777778,
              "#fb9f3a"
             ],
             [
              0.8888888888888888,
              "#fdca26"
             ],
             [
              1,
              "#f0f921"
             ]
            ],
            "type": "heatmap"
           }
          ],
          "heatmapgl": [
           {
            "colorbar": {
             "outlinewidth": 0,
             "ticks": ""
            },
            "colorscale": [
             [
              0,
              "#0d0887"
             ],
             [
              0.1111111111111111,
              "#46039f"
             ],
             [
              0.2222222222222222,
              "#7201a8"
             ],
             [
              0.3333333333333333,
              "#9c179e"
             ],
             [
              0.4444444444444444,
              "#bd3786"
             ],
             [
              0.5555555555555556,
              "#d8576b"
             ],
             [
              0.6666666666666666,
              "#ed7953"
             ],
             [
              0.7777777777777778,
              "#fb9f3a"
             ],
             [
              0.8888888888888888,
              "#fdca26"
             ],
             [
              1,
              "#f0f921"
             ]
            ],
            "type": "heatmapgl"
           }
          ],
          "histogram": [
           {
            "marker": {
             "colorbar": {
              "outlinewidth": 0,
              "ticks": ""
             }
            },
            "type": "histogram"
           }
          ],
          "histogram2d": [
           {
            "colorbar": {
             "outlinewidth": 0,
             "ticks": ""
            },
            "colorscale": [
             [
              0,
              "#0d0887"
             ],
             [
              0.1111111111111111,
              "#46039f"
             ],
             [
              0.2222222222222222,
              "#7201a8"
             ],
             [
              0.3333333333333333,
              "#9c179e"
             ],
             [
              0.4444444444444444,
              "#bd3786"
             ],
             [
              0.5555555555555556,
              "#d8576b"
             ],
             [
              0.6666666666666666,
              "#ed7953"
             ],
             [
              0.7777777777777778,
              "#fb9f3a"
             ],
             [
              0.8888888888888888,
              "#fdca26"
             ],
             [
              1,
              "#f0f921"
             ]
            ],
            "type": "histogram2d"
           }
          ],
          "histogram2dcontour": [
           {
            "colorbar": {
             "outlinewidth": 0,
             "ticks": ""
            },
            "colorscale": [
             [
              0,
              "#0d0887"
             ],
             [
              0.1111111111111111,
              "#46039f"
             ],
             [
              0.2222222222222222,
              "#7201a8"
             ],
             [
              0.3333333333333333,
              "#9c179e"
             ],
             [
              0.4444444444444444,
              "#bd3786"
             ],
             [
              0.5555555555555556,
              "#d8576b"
             ],
             [
              0.6666666666666666,
              "#ed7953"
             ],
             [
              0.7777777777777778,
              "#fb9f3a"
             ],
             [
              0.8888888888888888,
              "#fdca26"
             ],
             [
              1,
              "#f0f921"
             ]
            ],
            "type": "histogram2dcontour"
           }
          ],
          "mesh3d": [
           {
            "colorbar": {
             "outlinewidth": 0,
             "ticks": ""
            },
            "type": "mesh3d"
           }
          ],
          "parcoords": [
           {
            "line": {
             "colorbar": {
              "outlinewidth": 0,
              "ticks": ""
             }
            },
            "type": "parcoords"
           }
          ],
          "pie": [
           {
            "automargin": true,
            "type": "pie"
           }
          ],
          "scatter": [
           {
            "marker": {
             "colorbar": {
              "outlinewidth": 0,
              "ticks": ""
             }
            },
            "type": "scatter"
           }
          ],
          "scatter3d": [
           {
            "line": {
             "colorbar": {
              "outlinewidth": 0,
              "ticks": ""
             }
            },
            "marker": {
             "colorbar": {
              "outlinewidth": 0,
              "ticks": ""
             }
            },
            "type": "scatter3d"
           }
          ],
          "scattercarpet": [
           {
            "marker": {
             "colorbar": {
              "outlinewidth": 0,
              "ticks": ""
             }
            },
            "type": "scattercarpet"
           }
          ],
          "scattergeo": [
           {
            "marker": {
             "colorbar": {
              "outlinewidth": 0,
              "ticks": ""
             }
            },
            "type": "scattergeo"
           }
          ],
          "scattergl": [
           {
            "marker": {
             "colorbar": {
              "outlinewidth": 0,
              "ticks": ""
             }
            },
            "type": "scattergl"
           }
          ],
          "scattermapbox": [
           {
            "marker": {
             "colorbar": {
              "outlinewidth": 0,
              "ticks": ""
             }
            },
            "type": "scattermapbox"
           }
          ],
          "scatterpolar": [
           {
            "marker": {
             "colorbar": {
              "outlinewidth": 0,
              "ticks": ""
             }
            },
            "type": "scatterpolar"
           }
          ],
          "scatterpolargl": [
           {
            "marker": {
             "colorbar": {
              "outlinewidth": 0,
              "ticks": ""
             }
            },
            "type": "scatterpolargl"
           }
          ],
          "scatterternary": [
           {
            "marker": {
             "colorbar": {
              "outlinewidth": 0,
              "ticks": ""
             }
            },
            "type": "scatterternary"
           }
          ],
          "surface": [
           {
            "colorbar": {
             "outlinewidth": 0,
             "ticks": ""
            },
            "colorscale": [
             [
              0,
              "#0d0887"
             ],
             [
              0.1111111111111111,
              "#46039f"
             ],
             [
              0.2222222222222222,
              "#7201a8"
             ],
             [
              0.3333333333333333,
              "#9c179e"
             ],
             [
              0.4444444444444444,
              "#bd3786"
             ],
             [
              0.5555555555555556,
              "#d8576b"
             ],
             [
              0.6666666666666666,
              "#ed7953"
             ],
             [
              0.7777777777777778,
              "#fb9f3a"
             ],
             [
              0.8888888888888888,
              "#fdca26"
             ],
             [
              1,
              "#f0f921"
             ]
            ],
            "type": "surface"
           }
          ],
          "table": [
           {
            "cells": {
             "fill": {
              "color": "#EBF0F8"
             },
             "line": {
              "color": "white"
             }
            },
            "header": {
             "fill": {
              "color": "#C8D4E3"
             },
             "line": {
              "color": "white"
             }
            },
            "type": "table"
           }
          ]
         },
         "layout": {
          "annotationdefaults": {
           "arrowcolor": "#2a3f5f",
           "arrowhead": 0,
           "arrowwidth": 1
          },
          "autotypenumbers": "strict",
          "coloraxis": {
           "colorbar": {
            "outlinewidth": 0,
            "ticks": ""
           }
          },
          "colorscale": {
           "diverging": [
            [
             0,
             "#8e0152"
            ],
            [
             0.1,
             "#c51b7d"
            ],
            [
             0.2,
             "#de77ae"
            ],
            [
             0.3,
             "#f1b6da"
            ],
            [
             0.4,
             "#fde0ef"
            ],
            [
             0.5,
             "#f7f7f7"
            ],
            [
             0.6,
             "#e6f5d0"
            ],
            [
             0.7,
             "#b8e186"
            ],
            [
             0.8,
             "#7fbc41"
            ],
            [
             0.9,
             "#4d9221"
            ],
            [
             1,
             "#276419"
            ]
           ],
           "sequential": [
            [
             0,
             "#0d0887"
            ],
            [
             0.1111111111111111,
             "#46039f"
            ],
            [
             0.2222222222222222,
             "#7201a8"
            ],
            [
             0.3333333333333333,
             "#9c179e"
            ],
            [
             0.4444444444444444,
             "#bd3786"
            ],
            [
             0.5555555555555556,
             "#d8576b"
            ],
            [
             0.6666666666666666,
             "#ed7953"
            ],
            [
             0.7777777777777778,
             "#fb9f3a"
            ],
            [
             0.8888888888888888,
             "#fdca26"
            ],
            [
             1,
             "#f0f921"
            ]
           ],
           "sequentialminus": [
            [
             0,
             "#0d0887"
            ],
            [
             0.1111111111111111,
             "#46039f"
            ],
            [
             0.2222222222222222,
             "#7201a8"
            ],
            [
             0.3333333333333333,
             "#9c179e"
            ],
            [
             0.4444444444444444,
             "#bd3786"
            ],
            [
             0.5555555555555556,
             "#d8576b"
            ],
            [
             0.6666666666666666,
             "#ed7953"
            ],
            [
             0.7777777777777778,
             "#fb9f3a"
            ],
            [
             0.8888888888888888,
             "#fdca26"
            ],
            [
             1,
             "#f0f921"
            ]
           ]
          },
          "colorway": [
           "#636efa",
           "#EF553B",
           "#00cc96",
           "#ab63fa",
           "#FFA15A",
           "#19d3f3",
           "#FF6692",
           "#B6E880",
           "#FF97FF",
           "#FECB52"
          ],
          "font": {
           "color": "#2a3f5f"
          },
          "geo": {
           "bgcolor": "white",
           "lakecolor": "white",
           "landcolor": "#E5ECF6",
           "showlakes": true,
           "showland": true,
           "subunitcolor": "white"
          },
          "hoverlabel": {
           "align": "left"
          },
          "hovermode": "closest",
          "mapbox": {
           "style": "light"
          },
          "paper_bgcolor": "white",
          "plot_bgcolor": "#E5ECF6",
          "polar": {
           "angularaxis": {
            "gridcolor": "white",
            "linecolor": "white",
            "ticks": ""
           },
           "bgcolor": "#E5ECF6",
           "radialaxis": {
            "gridcolor": "white",
            "linecolor": "white",
            "ticks": ""
           }
          },
          "scene": {
           "xaxis": {
            "backgroundcolor": "#E5ECF6",
            "gridcolor": "white",
            "gridwidth": 2,
            "linecolor": "white",
            "showbackground": true,
            "ticks": "",
            "zerolinecolor": "white"
           },
           "yaxis": {
            "backgroundcolor": "#E5ECF6",
            "gridcolor": "white",
            "gridwidth": 2,
            "linecolor": "white",
            "showbackground": true,
            "ticks": "",
            "zerolinecolor": "white"
           },
           "zaxis": {
            "backgroundcolor": "#E5ECF6",
            "gridcolor": "white",
            "gridwidth": 2,
            "linecolor": "white",
            "showbackground": true,
            "ticks": "",
            "zerolinecolor": "white"
           }
          },
          "shapedefaults": {
           "line": {
            "color": "#2a3f5f"
           }
          },
          "ternary": {
           "aaxis": {
            "gridcolor": "white",
            "linecolor": "white",
            "ticks": ""
           },
           "baxis": {
            "gridcolor": "white",
            "linecolor": "white",
            "ticks": ""
           },
           "bgcolor": "#E5ECF6",
           "caxis": {
            "gridcolor": "white",
            "linecolor": "white",
            "ticks": ""
           }
          },
          "title": {
           "x": 0.05
          },
          "xaxis": {
           "automargin": true,
           "gridcolor": "white",
           "linecolor": "white",
           "ticks": "",
           "title": {
            "standoff": 15
           },
           "zerolinecolor": "white",
           "zerolinewidth": 2
          },
          "yaxis": {
           "automargin": true,
           "gridcolor": "white",
           "linecolor": "white",
           "ticks": "",
           "title": {
            "standoff": 15
           },
           "zerolinecolor": "white",
           "zerolinewidth": 2
          }
         }
        },
        "xaxis": {
         "anchor": "y",
         "domain": [
          0,
          1
         ],
         "title": {
          "text": "index"
         }
        },
        "yaxis": {
         "anchor": "x",
         "domain": [
          0,
          1
         ],
         "title": {
          "text": "value"
         }
        }
       }
      },
      "text/html": [
       "<div>                            <div id=\"2b099012-3b20-4b49-bb52-08e833ad09ea\" class=\"plotly-graph-div\" style=\"height:525px; width:100%;\"></div>            <script type=\"text/javascript\">                require([\"plotly\"], function(Plotly) {                    window.PLOTLYENV=window.PLOTLYENV || {};                                    if (document.getElementById(\"2b099012-3b20-4b49-bb52-08e833ad09ea\")) {                    Plotly.newPlot(                        \"2b099012-3b20-4b49-bb52-08e833ad09ea\",                        [{\"hovertemplate\": \"variable=Predictions<br>index=%{x}<br>value=%{y}<extra></extra>\", \"legendgroup\": \"Predictions\", \"line\": {\"color\": \"#636efa\", \"dash\": \"solid\"}, \"mode\": \"lines\", \"name\": \"Predictions\", \"orientation\": \"v\", \"showlegend\": true, \"type\": \"scatter\", \"x\": [1100, 1101, 1102, 1103, 1104, 1105, 1106, 1107, 1108, 1109, 1110, 1111, 1112, 1113, 1114, 1115, 1116, 1117, 1118, 1119, 1120, 1121, 1122, 1123, 1124, 1125, 1126, 1127, 1128, 1129, 1130, 1131, 1132, 1133, 1134, 1135, 1136, 1137, 1138, 1139, 1140, 1141, 1142, 1143, 1144, 1145, 1146, 1147, 1148, 1149, 1150, 1151, 1152, 1153, 1154, 1155, 1156, 1157, 1158, 1159, 1160, 1161, 1162, 1163, 1164, 1165, 1166, 1167, 1168, 1169, 1170, 1171, 1172, 1173, 1174, 1175, 1176, 1177, 1178, 1179, 1180, 1181, 1182, 1183, 1184, 1185, 1186, 1187, 1188, 1189, 1190, 1191, 1192, 1193, 1194, 1195, 1196, 1197, 1198, 1199], \"xaxis\": \"x\", \"y\": [21.62000846862793, 14.07679271697998, 17.850112915039062, 19.204198837280273, 15.8219575881958, 19.4769287109375, 23.55709648132324, 17.85906982421875, 21.822111129760746, 15.641828536987305, 6.594830989837647, 22.256399154663086, 18.610811233520508, 22.256399154663086, 4.79974365234375, 18.7546443939209, 16.338207244873047, 17.226842880249027, 14.661712646484375, 15.2923583984375, 18.753353118896484, 20.648584365844727, 13.381399154663086, 23.266685485839844, 18.47650909423828, 13.698983192443848, 18.018138885498047, 14.634949684143065, 19.773988723754886, 21.28266143798828, 16.923511505126953, 22.684659957885746, 16.793024063110348, 15.93431282043457, 11.643214225769045, 14.200420379638672, 19.0036563873291, 20.55986785888672, 18.037736892700195, 17.662975311279297, 18.488445281982425, 12.64798069000244, 19.69422149658203, 16.557195663452152, 18.449214935302734, 15.41137981414795, 21.24448776245117, 17.939870834350586, 18.2041130065918, 11.73298168182373, 16.896734237670902, 16.098934173583984, 16.589046478271484, 19.18218231201172, 18.025440216064453, 17.518421173095707, 21.69776725769043, 17.609699249267578, 16.036846160888672, 15.936010360717773, 16.818313598632812, 16.333806991577152, 16.985198974609375, 20.502355575561523, 17.747648239135742, 20.42950820922852, 14.134888648986815, 14.213388442993164, 11.035802841186523, 19.56758689880371, 18.72066307067871, 20.99063491821289, 18.352771759033203, 16.91859245300293, 16.560914993286133, 15.793855667114258, 16.661951065063473, 20.619882583618164, 5.471572399139403, 16.621278762817386, 16.005340576171875, 15.35779857635498, 19.20824241638184, 23.95026588439941, 18.46682548522949, 11.853946685791016, 17.829402923583984, 1.4093847274780271, 11.114177703857422, 20.295373916625977, 19.33527183532715, 17.66192054748535, 15.49431610107422, 16.66554069519043, 18.483701705932614, 21.07680892944336, 18.28055191040039, 15.424721717834473, 13.178550720214846, 22.619140625], \"yaxis\": \"y\"}, {\"hovertemplate\": \"variable=Test Data<br>index=%{x}<br>value=%{y}<extra></extra>\", \"legendgroup\": \"Test Data\", \"line\": {\"color\": \"#EF553B\", \"dash\": \"solid\"}, \"mode\": \"lines\", \"name\": \"Test Data\", \"orientation\": \"v\", \"showlegend\": true, \"type\": \"scatter\", \"x\": [1100, 1101, 1102, 1103, 1104, 1105, 1106, 1107, 1108, 1109, 1110, 1111, 1112, 1113, 1114, 1115, 1116, 1117, 1118, 1119, 1120, 1121, 1122, 1123, 1124, 1125, 1126, 1127, 1128, 1129, 1130, 1131, 1132, 1133, 1134, 1135, 1136, 1137, 1138, 1139, 1140, 1141, 1142, 1143, 1144, 1145, 1146, 1147, 1148, 1149, 1150, 1151, 1152, 1153, 1154, 1155, 1156, 1157, 1158, 1159, 1160, 1161, 1162, 1163, 1164, 1165, 1166, 1167, 1168, 1169, 1170, 1171, 1172, 1173, 1174, 1175, 1176, 1177, 1178, 1179, 1180, 1181, 1182, 1183, 1184, 1185, 1186, 1187, 1188, 1189, 1190, 1191, 1192, 1193, 1194, 1195, 1196, 1197, 1198, 1199], \"xaxis\": \"x\", \"y\": [23.31, 24.98, 19.3, 17.94, 25.01, 18.65, 20.67, 9.23, 22.18, 9.12, 6.07, 21.73, 13.85, 21.73, 6.07, 10.68, 29.31, 34.77, 23.95, 22.19, 19.19, 17.57, 15.71, 21.41, 7.77, 20.22, 8.45, 15.03, 10.5, 20.37, 16.33, 21.95, 13.76, 21.95, 17.98, 21.51, 27.26, 8.07, 25.98, 14.83, 20.87, 13.79, 13.49, 19.79, 13.0, 6.06, 24.53, 10.39, 5.2, 19.09, 19.9, 22.0, 17.98, 14.83, 22.7, 10.96, 42.1, 18.85, 18.43, 11.5, 18.11, 28.13, 15.61, 17.66, 20.02, 19.38, 14.58, 13.03, 8.45, 15.61, 24.21, 21.08, 5.24, 20.41, 24.21, 25.49, 18.89, 11.4, 7.8, 24.83, 25.21, 20.89, 12.58, 19.17, 11.56, 11.48, 8.72, 1.53, 8.72, 25.15, 15.23, 11.48, 15.87, 11.69, 21.03, 17.34, 27.04, 15.23, 11.16, 17.11], \"yaxis\": \"y\"}],                        {\"legend\": {\"title\": {\"text\": \"variable\"}, \"tracegroupgap\": 0}, \"margin\": {\"t\": 60}, \"template\": {\"data\": {\"bar\": [{\"error_x\": {\"color\": \"#2a3f5f\"}, \"error_y\": {\"color\": \"#2a3f5f\"}, \"marker\": {\"line\": {\"color\": \"#E5ECF6\", \"width\": 0.5}}, \"type\": \"bar\"}], \"barpolar\": [{\"marker\": {\"line\": {\"color\": \"#E5ECF6\", \"width\": 0.5}}, \"type\": \"barpolar\"}], \"carpet\": [{\"aaxis\": {\"endlinecolor\": \"#2a3f5f\", \"gridcolor\": \"white\", \"linecolor\": \"white\", \"minorgridcolor\": \"white\", \"startlinecolor\": \"#2a3f5f\"}, \"baxis\": {\"endlinecolor\": \"#2a3f5f\", \"gridcolor\": \"white\", \"linecolor\": \"white\", \"minorgridcolor\": \"white\", \"startlinecolor\": \"#2a3f5f\"}, \"type\": \"carpet\"}], \"choropleth\": [{\"colorbar\": {\"outlinewidth\": 0, \"ticks\": \"\"}, \"type\": \"choropleth\"}], \"contour\": [{\"colorbar\": {\"outlinewidth\": 0, \"ticks\": \"\"}, \"colorscale\": [[0.0, \"#0d0887\"], [0.1111111111111111, \"#46039f\"], [0.2222222222222222, \"#7201a8\"], [0.3333333333333333, \"#9c179e\"], [0.4444444444444444, \"#bd3786\"], [0.5555555555555556, \"#d8576b\"], [0.6666666666666666, \"#ed7953\"], [0.7777777777777778, \"#fb9f3a\"], [0.8888888888888888, \"#fdca26\"], [1.0, \"#f0f921\"]], \"type\": \"contour\"}], \"contourcarpet\": [{\"colorbar\": {\"outlinewidth\": 0, \"ticks\": \"\"}, \"type\": \"contourcarpet\"}], \"heatmap\": [{\"colorbar\": {\"outlinewidth\": 0, \"ticks\": \"\"}, \"colorscale\": [[0.0, \"#0d0887\"], [0.1111111111111111, \"#46039f\"], [0.2222222222222222, \"#7201a8\"], [0.3333333333333333, \"#9c179e\"], [0.4444444444444444, \"#bd3786\"], [0.5555555555555556, \"#d8576b\"], [0.6666666666666666, \"#ed7953\"], [0.7777777777777778, \"#fb9f3a\"], [0.8888888888888888, \"#fdca26\"], [1.0, \"#f0f921\"]], \"type\": \"heatmap\"}], \"heatmapgl\": [{\"colorbar\": {\"outlinewidth\": 0, \"ticks\": \"\"}, \"colorscale\": [[0.0, \"#0d0887\"], [0.1111111111111111, \"#46039f\"], [0.2222222222222222, \"#7201a8\"], [0.3333333333333333, \"#9c179e\"], [0.4444444444444444, \"#bd3786\"], [0.5555555555555556, \"#d8576b\"], [0.6666666666666666, \"#ed7953\"], [0.7777777777777778, \"#fb9f3a\"], [0.8888888888888888, \"#fdca26\"], [1.0, \"#f0f921\"]], \"type\": \"heatmapgl\"}], \"histogram\": [{\"marker\": {\"colorbar\": {\"outlinewidth\": 0, \"ticks\": \"\"}}, \"type\": \"histogram\"}], \"histogram2d\": [{\"colorbar\": {\"outlinewidth\": 0, \"ticks\": \"\"}, \"colorscale\": [[0.0, \"#0d0887\"], [0.1111111111111111, \"#46039f\"], [0.2222222222222222, \"#7201a8\"], [0.3333333333333333, \"#9c179e\"], [0.4444444444444444, \"#bd3786\"], [0.5555555555555556, \"#d8576b\"], [0.6666666666666666, \"#ed7953\"], [0.7777777777777778, \"#fb9f3a\"], [0.8888888888888888, \"#fdca26\"], [1.0, \"#f0f921\"]], \"type\": \"histogram2d\"}], \"histogram2dcontour\": [{\"colorbar\": {\"outlinewidth\": 0, \"ticks\": \"\"}, \"colorscale\": [[0.0, \"#0d0887\"], [0.1111111111111111, \"#46039f\"], [0.2222222222222222, \"#7201a8\"], [0.3333333333333333, \"#9c179e\"], [0.4444444444444444, \"#bd3786\"], [0.5555555555555556, \"#d8576b\"], [0.6666666666666666, \"#ed7953\"], [0.7777777777777778, \"#fb9f3a\"], [0.8888888888888888, \"#fdca26\"], [1.0, \"#f0f921\"]], \"type\": \"histogram2dcontour\"}], \"mesh3d\": [{\"colorbar\": {\"outlinewidth\": 0, \"ticks\": \"\"}, \"type\": \"mesh3d\"}], \"parcoords\": [{\"line\": {\"colorbar\": {\"outlinewidth\": 0, \"ticks\": \"\"}}, \"type\": \"parcoords\"}], \"pie\": [{\"automargin\": true, \"type\": \"pie\"}], \"scatter\": [{\"marker\": {\"colorbar\": {\"outlinewidth\": 0, \"ticks\": \"\"}}, \"type\": \"scatter\"}], \"scatter3d\": [{\"line\": {\"colorbar\": {\"outlinewidth\": 0, \"ticks\": \"\"}}, \"marker\": {\"colorbar\": {\"outlinewidth\": 0, \"ticks\": \"\"}}, \"type\": \"scatter3d\"}], \"scattercarpet\": [{\"marker\": {\"colorbar\": {\"outlinewidth\": 0, \"ticks\": \"\"}}, \"type\": \"scattercarpet\"}], \"scattergeo\": [{\"marker\": {\"colorbar\": {\"outlinewidth\": 0, \"ticks\": \"\"}}, \"type\": \"scattergeo\"}], \"scattergl\": [{\"marker\": {\"colorbar\": {\"outlinewidth\": 0, \"ticks\": \"\"}}, \"type\": \"scattergl\"}], \"scattermapbox\": [{\"marker\": {\"colorbar\": {\"outlinewidth\": 0, \"ticks\": \"\"}}, \"type\": \"scattermapbox\"}], \"scatterpolar\": [{\"marker\": {\"colorbar\": {\"outlinewidth\": 0, \"ticks\": \"\"}}, \"type\": \"scatterpolar\"}], \"scatterpolargl\": [{\"marker\": {\"colorbar\": {\"outlinewidth\": 0, \"ticks\": \"\"}}, \"type\": \"scatterpolargl\"}], \"scatterternary\": [{\"marker\": {\"colorbar\": {\"outlinewidth\": 0, \"ticks\": \"\"}}, \"type\": \"scatterternary\"}], \"surface\": [{\"colorbar\": {\"outlinewidth\": 0, \"ticks\": \"\"}, \"colorscale\": [[0.0, \"#0d0887\"], [0.1111111111111111, \"#46039f\"], [0.2222222222222222, \"#7201a8\"], [0.3333333333333333, \"#9c179e\"], [0.4444444444444444, \"#bd3786\"], [0.5555555555555556, \"#d8576b\"], [0.6666666666666666, \"#ed7953\"], [0.7777777777777778, \"#fb9f3a\"], [0.8888888888888888, \"#fdca26\"], [1.0, \"#f0f921\"]], \"type\": \"surface\"}], \"table\": [{\"cells\": {\"fill\": {\"color\": \"#EBF0F8\"}, \"line\": {\"color\": \"white\"}}, \"header\": {\"fill\": {\"color\": \"#C8D4E3\"}, \"line\": {\"color\": \"white\"}}, \"type\": \"table\"}]}, \"layout\": {\"annotationdefaults\": {\"arrowcolor\": \"#2a3f5f\", \"arrowhead\": 0, \"arrowwidth\": 1}, \"autotypenumbers\": \"strict\", \"coloraxis\": {\"colorbar\": {\"outlinewidth\": 0, \"ticks\": \"\"}}, \"colorscale\": {\"diverging\": [[0, \"#8e0152\"], [0.1, \"#c51b7d\"], [0.2, \"#de77ae\"], [0.3, \"#f1b6da\"], [0.4, \"#fde0ef\"], [0.5, \"#f7f7f7\"], [0.6, \"#e6f5d0\"], [0.7, \"#b8e186\"], [0.8, \"#7fbc41\"], [0.9, \"#4d9221\"], [1, \"#276419\"]], \"sequential\": [[0.0, \"#0d0887\"], [0.1111111111111111, \"#46039f\"], [0.2222222222222222, \"#7201a8\"], [0.3333333333333333, \"#9c179e\"], [0.4444444444444444, \"#bd3786\"], [0.5555555555555556, \"#d8576b\"], [0.6666666666666666, \"#ed7953\"], [0.7777777777777778, \"#fb9f3a\"], [0.8888888888888888, \"#fdca26\"], [1.0, \"#f0f921\"]], \"sequentialminus\": [[0.0, \"#0d0887\"], [0.1111111111111111, \"#46039f\"], [0.2222222222222222, \"#7201a8\"], [0.3333333333333333, \"#9c179e\"], [0.4444444444444444, \"#bd3786\"], [0.5555555555555556, \"#d8576b\"], [0.6666666666666666, \"#ed7953\"], [0.7777777777777778, \"#fb9f3a\"], [0.8888888888888888, \"#fdca26\"], [1.0, \"#f0f921\"]]}, \"colorway\": [\"#636efa\", \"#EF553B\", \"#00cc96\", \"#ab63fa\", \"#FFA15A\", \"#19d3f3\", \"#FF6692\", \"#B6E880\", \"#FF97FF\", \"#FECB52\"], \"font\": {\"color\": \"#2a3f5f\"}, \"geo\": {\"bgcolor\": \"white\", \"lakecolor\": \"white\", \"landcolor\": \"#E5ECF6\", \"showlakes\": true, \"showland\": true, \"subunitcolor\": \"white\"}, \"hoverlabel\": {\"align\": \"left\"}, \"hovermode\": \"closest\", \"mapbox\": {\"style\": \"light\"}, \"paper_bgcolor\": \"white\", \"plot_bgcolor\": \"#E5ECF6\", \"polar\": {\"angularaxis\": {\"gridcolor\": \"white\", \"linecolor\": \"white\", \"ticks\": \"\"}, \"bgcolor\": \"#E5ECF6\", \"radialaxis\": {\"gridcolor\": \"white\", \"linecolor\": \"white\", \"ticks\": \"\"}}, \"scene\": {\"xaxis\": {\"backgroundcolor\": \"#E5ECF6\", \"gridcolor\": \"white\", \"gridwidth\": 2, \"linecolor\": \"white\", \"showbackground\": true, \"ticks\": \"\", \"zerolinecolor\": \"white\"}, \"yaxis\": {\"backgroundcolor\": \"#E5ECF6\", \"gridcolor\": \"white\", \"gridwidth\": 2, \"linecolor\": \"white\", \"showbackground\": true, \"ticks\": \"\", \"zerolinecolor\": \"white\"}, \"zaxis\": {\"backgroundcolor\": \"#E5ECF6\", \"gridcolor\": \"white\", \"gridwidth\": 2, \"linecolor\": \"white\", \"showbackground\": true, \"ticks\": \"\", \"zerolinecolor\": \"white\"}}, \"shapedefaults\": {\"line\": {\"color\": \"#2a3f5f\"}}, \"ternary\": {\"aaxis\": {\"gridcolor\": \"white\", \"linecolor\": \"white\", \"ticks\": \"\"}, \"baxis\": {\"gridcolor\": \"white\", \"linecolor\": \"white\", \"ticks\": \"\"}, \"bgcolor\": \"#E5ECF6\", \"caxis\": {\"gridcolor\": \"white\", \"linecolor\": \"white\", \"ticks\": \"\"}}, \"title\": {\"x\": 0.05}, \"xaxis\": {\"automargin\": true, \"gridcolor\": \"white\", \"linecolor\": \"white\", \"ticks\": \"\", \"title\": {\"standoff\": 15}, \"zerolinecolor\": \"white\", \"zerolinewidth\": 2}, \"yaxis\": {\"automargin\": true, \"gridcolor\": \"white\", \"linecolor\": \"white\", \"ticks\": \"\", \"title\": {\"standoff\": 15}, \"zerolinecolor\": \"white\", \"zerolinewidth\": 2}}}, \"xaxis\": {\"anchor\": \"y\", \"domain\": [0.0, 1.0], \"title\": {\"text\": \"index\"}}, \"yaxis\": {\"anchor\": \"x\", \"domain\": [0.0, 1.0], \"title\": {\"text\": \"value\"}}},                        {\"responsive\": true}                    ).then(function(){\n",
       "                            \n",
       "var gd = document.getElementById('2b099012-3b20-4b49-bb52-08e833ad09ea');\n",
       "var x = new MutationObserver(function (mutations, observer) {{\n",
       "        var display = window.getComputedStyle(gd).display;\n",
       "        if (!display || display === 'none') {{\n",
       "            console.log([gd, 'removed!']);\n",
       "            Plotly.purge(gd);\n",
       "            observer.disconnect();\n",
       "        }}\n",
       "}});\n",
       "\n",
       "// Listen for the removal of the full notebook cells\n",
       "var notebookContainer = gd.closest('#notebook-container');\n",
       "if (notebookContainer) {{\n",
       "    x.observe(notebookContainer, {childList: true});\n",
       "}}\n",
       "\n",
       "// Listen for the clearing of the current output cell\n",
       "var outputEl = gd.closest('.output');\n",
       "if (outputEl) {{\n",
       "    x.observe(outputEl, {childList: true});\n",
       "}}\n",
       "\n",
       "                        })                };                });            </script>        </div>"
      ]
     },
     "metadata": {},
     "output_type": "display_data"
    }
   ],
   "source": [
    "# Creates a dataframe with concatenated data just to plot\n",
    "df_to_plot = pd.concat([Y_pred, Y_test], axis=1)\n",
    "\n",
    "# Plot \n",
    "fig = px.line(df_to_plot[1100:1200], y=['Predictions', 'Test Data'])\n",
    "\n",
    "# Show plot \n",
    "fig.show()"
   ]
  },
  {
   "cell_type": "markdown",
   "id": "28738eb4",
   "metadata": {},
   "source": [
    "---"
   ]
  },
  {
   "cell_type": "markdown",
   "id": "15b0b468",
   "metadata": {},
   "source": [
    "## Deploy the Trained Model"
   ]
  },
  {
   "cell_type": "code",
   "execution_count": 27,
   "id": "90f5a9c6",
   "metadata": {},
   "outputs": [
    {
     "name": "stderr",
     "output_type": "stream",
     "text": [
      "Parameter image will be renamed to image_uri in SageMaker Python SDK v2.\n",
      "Using already existing model: xgboost-2021-08-11-00-16-11-486\n"
     ]
    },
    {
     "name": "stdout",
     "output_type": "stream",
     "text": [
      "-----------------!"
     ]
    }
   ],
   "source": [
    "xgb_predictor = xgb.deploy(initial_instance_count=1, instance_type='ml.m4.xlarge')"
   ]
  },
  {
   "cell_type": "code",
   "execution_count": 28,
   "id": "b2a254e9",
   "metadata": {},
   "outputs": [
    {
     "data": {
      "text/html": [
       "<div>\n",
       "<style scoped>\n",
       "    .dataframe tbody tr th:only-of-type {\n",
       "        vertical-align: middle;\n",
       "    }\n",
       "\n",
       "    .dataframe tbody tr th {\n",
       "        vertical-align: top;\n",
       "    }\n",
       "\n",
       "    .dataframe thead th {\n",
       "        text-align: right;\n",
       "    }\n",
       "</style>\n",
       "<table border=\"1\" class=\"dataframe\">\n",
       "  <thead>\n",
       "    <tr style=\"text-align: right;\">\n",
       "      <th></th>\n",
       "      <th>0</th>\n",
       "      <th>1</th>\n",
       "      <th>2</th>\n",
       "      <th>3</th>\n",
       "      <th>4</th>\n",
       "    </tr>\n",
       "  </thead>\n",
       "  <tbody>\n",
       "    <tr>\n",
       "      <th>0</th>\n",
       "      <td>0</td>\n",
       "      <td>9421</td>\n",
       "      <td>5</td>\n",
       "      <td>0</td>\n",
       "      <td>1</td>\n",
       "    </tr>\n",
       "    <tr>\n",
       "      <th>1</th>\n",
       "      <td>0</td>\n",
       "      <td>735</td>\n",
       "      <td>6</td>\n",
       "      <td>0</td>\n",
       "      <td>0</td>\n",
       "    </tr>\n",
       "    <tr>\n",
       "      <th>2</th>\n",
       "      <td>0</td>\n",
       "      <td>6944</td>\n",
       "      <td>3</td>\n",
       "      <td>0</td>\n",
       "      <td>1</td>\n",
       "    </tr>\n",
       "    <tr>\n",
       "      <th>3</th>\n",
       "      <td>0</td>\n",
       "      <td>1463</td>\n",
       "      <td>4</td>\n",
       "      <td>0</td>\n",
       "      <td>0</td>\n",
       "    </tr>\n",
       "    <tr>\n",
       "      <th>4</th>\n",
       "      <td>0</td>\n",
       "      <td>11221</td>\n",
       "      <td>7</td>\n",
       "      <td>1</td>\n",
       "      <td>0</td>\n",
       "    </tr>\n",
       "  </tbody>\n",
       "</table>\n",
       "</div>"
      ],
      "text/plain": [
       "   0      1  2  3  4\n",
       "0  0   9421  5  0  1\n",
       "1  0    735  6  0  0\n",
       "2  0   6944  3  0  1\n",
       "3  0   1463  4  0  0\n",
       "4  0  11221  7  1  0"
      ]
     },
     "execution_count": 28,
     "metadata": {},
     "output_type": "execute_result"
    }
   ],
   "source": [
    "# Path to test dataset\n",
    "test_key = os.path.join(data_dir, 'test.csv')\n",
    "\n",
    "# Read the test.csv file\n",
    "X_test = pd.read_csv(test_key, header=None)\n",
    "X_test.head()"
   ]
  },
  {
   "cell_type": "code",
   "execution_count": 29,
   "id": "1a6619d3",
   "metadata": {},
   "outputs": [],
   "source": [
    "def predict(data, content_type='text/csv'):\n",
    "    \"\"\" Function to get predictions from a .csv file.\"\"\"\n",
    "    # We need to tell the endpoint what format the data we are sending is in\n",
    "    xgb_predictor.content_type = content_type\n",
    "    xgb_predictor.serializer = csv_serializer\n",
    "    \n",
    "    Y_pred = xgb_predictor.predict(data.values).decode('utf-8')\n",
    "    # predictions is currently a comma delimited string and so we would like to break it up\n",
    "    # as a numpy array.\n",
    "    predictions = np.fromstring(Y_pred, sep=',')\n",
    "    \n",
    "    return predictions"
   ]
  },
  {
   "cell_type": "code",
   "execution_count": 30,
   "id": "1fd8fda9",
   "metadata": {},
   "outputs": [],
   "source": [
    "def predict_app(data, content_type='text/csv'):\n",
    "    \"\"\" Function to get predictions from numpy array.\"\"\"\n",
    "    # We need to tell the endpoint what format the data we are sending is in\n",
    "    xgb_predictor.content_type = content_type\n",
    "    xgb_predictor.serializer = csv_serializer\n",
    "    \n",
    "    Y_pred = xgb_predictor.predict(data).decode('utf-8')\n",
    "    # predictions is currently a comma delimited string and so we would like to break it up\n",
    "    # as a numpy array.\n",
    "    predictions = np.fromstring(Y_pred, sep=',')\n",
    "    \n",
    "    return predictions"
   ]
  },
  {
   "cell_type": "code",
   "execution_count": 36,
   "id": "177b77cd",
   "metadata": {},
   "outputs": [
    {
     "data": {
      "text/plain": [
       "array([20.75829887, 17.2298584 , 19.05839348, ..., 14.55226517,\n",
       "       19.05433846, 22.88606644])"
      ]
     },
     "execution_count": 36,
     "metadata": {},
     "output_type": "execute_result"
    }
   ],
   "source": [
    "Y_pred = predict(X_test)\n",
    "Y_pred"
   ]
  },
  {
   "cell_type": "code",
   "execution_count": 48,
   "id": "ec624438",
   "metadata": {},
   "outputs": [
    {
     "data": {
      "text/html": [
       "<div>\n",
       "<style scoped>\n",
       "    .dataframe tbody tr th:only-of-type {\n",
       "        vertical-align: middle;\n",
       "    }\n",
       "\n",
       "    .dataframe tbody tr th {\n",
       "        vertical-align: top;\n",
       "    }\n",
       "\n",
       "    .dataframe thead th {\n",
       "        text-align: right;\n",
       "    }\n",
       "</style>\n",
       "<table border=\"1\" class=\"dataframe\">\n",
       "  <thead>\n",
       "    <tr style=\"text-align: right;\">\n",
       "      <th></th>\n",
       "      <th>time</th>\n",
       "      <th>Predicted Transaction</th>\n",
       "    </tr>\n",
       "  </thead>\n",
       "  <tbody>\n",
       "    <tr>\n",
       "      <th>0</th>\n",
       "      <td>0.0</td>\n",
       "      <td>20.758299</td>\n",
       "    </tr>\n",
       "    <tr>\n",
       "      <th>1</th>\n",
       "      <td>6.0</td>\n",
       "      <td>17.229858</td>\n",
       "    </tr>\n",
       "    <tr>\n",
       "      <th>2</th>\n",
       "      <td>12.0</td>\n",
       "      <td>19.058393</td>\n",
       "    </tr>\n",
       "    <tr>\n",
       "      <th>3</th>\n",
       "      <td>18.0</td>\n",
       "      <td>18.536430</td>\n",
       "    </tr>\n",
       "  </tbody>\n",
       "</table>\n",
       "</div>"
      ],
      "text/plain": [
       "   time  Predicted Transaction\n",
       "0   0.0              20.758299\n",
       "1   6.0              17.229858\n",
       "2  12.0              19.058393\n",
       "3  18.0              18.536430"
      ]
     },
     "execution_count": 48,
     "metadata": {},
     "output_type": "execute_result"
    }
   ],
   "source": [
    "time_list = [0,6,12,18]\n",
    "df_to_plot = pd.DataFrame(np.append(time_list, Y_pred[:4]).reshape((2,4)).transpose())\n",
    "df_to_plot.rename(columns={0:'time', 1:'Predicted Transaction'}, inplace=True)\n",
    "df_to_plot"
   ]
  },
  {
   "cell_type": "markdown",
   "id": "05e61cfe",
   "metadata": {},
   "source": [
    "### Calculating the metrics"
   ]
  },
  {
   "cell_type": "markdown",
   "id": "22801811",
   "metadata": {},
   "source": [
    "Let's calculate the Mean Squared Logarithmic Error (MSLE) and Mean Squared Error (MSE) of our model, to check its performance:"
   ]
  },
  {
   "cell_type": "code",
   "execution_count": 32,
   "id": "c899dea2",
   "metadata": {},
   "outputs": [
    {
     "name": "stdout",
     "output_type": "stream",
     "text": [
      "Mean Squared Logarithmic Error:  0.3569353451461626\n",
      "Root Mean Squared Error:  0.3569353451461626\n"
     ]
    }
   ],
   "source": [
    "from sklearn.metrics import mean_squared_log_error\n",
    "from sklearn.metrics import mean_squared_error\n",
    "\n",
    "# Calculate the MSLE\n",
    "msle = mean_squared_log_error(Y_pred, Y_test)\n",
    "\n",
    "# Calculate the RMSE\n",
    "rmse = np.sqrt(mean_squared_error(Y_pred, Y_test))\n",
    "\n",
    "print(\"Mean Squared Logarithmic Error: \", msle)\n",
    "print(\"Root Mean Squared Error: \", msle)"
   ]
  },
  {
   "cell_type": "code",
   "execution_count": 33,
   "id": "8c1be857",
   "metadata": {},
   "outputs": [
    {
     "data": {
      "application/vnd.plotly.v1+json": {
       "config": {
        "plotlyServerURL": "https://plot.ly"
       },
       "data": [
        {
         "hovertemplate": "variable=Y_pred<br>index=%{x}<br>value=%{y}<extra></extra>",
         "legendgroup": "Y_pred",
         "line": {
          "color": "#636efa",
          "dash": "solid"
         },
         "mode": "lines",
         "name": "Y_pred",
         "orientation": "v",
         "showlegend": true,
         "type": "scatter",
         "x": [
          1100,
          1101,
          1102,
          1103,
          1104,
          1105,
          1106,
          1107,
          1108,
          1109,
          1110,
          1111,
          1112,
          1113,
          1114,
          1115,
          1116,
          1117,
          1118,
          1119,
          1120,
          1121,
          1122,
          1123,
          1124,
          1125,
          1126,
          1127,
          1128,
          1129,
          1130,
          1131,
          1132,
          1133,
          1134,
          1135,
          1136,
          1137,
          1138,
          1139,
          1140,
          1141,
          1142,
          1143,
          1144,
          1145,
          1146,
          1147,
          1148,
          1149,
          1150,
          1151,
          1152,
          1153,
          1154,
          1155,
          1156,
          1157,
          1158,
          1159,
          1160,
          1161,
          1162,
          1163,
          1164,
          1165,
          1166,
          1167,
          1168,
          1169,
          1170,
          1171,
          1172,
          1173,
          1174,
          1175,
          1176,
          1177,
          1178,
          1179,
          1180,
          1181,
          1182,
          1183,
          1184,
          1185,
          1186,
          1187,
          1188,
          1189,
          1190,
          1191,
          1192,
          1193,
          1194,
          1195,
          1196,
          1197,
          1198,
          1199
         ],
         "xaxis": "x",
         "y": [
          21.62000846862793,
          14.07679271697998,
          17.850112915039062,
          19.204198837280273,
          15.8219575881958,
          19.4769287109375,
          23.557096481323242,
          17.85906982421875,
          21.822111129760742,
          15.641828536987305,
          6.5948309898376465,
          22.256399154663086,
          18.610811233520508,
          22.256399154663086,
          4.79974365234375,
          18.7546443939209,
          16.338207244873047,
          17.226842880249023,
          14.661712646484375,
          15.2923583984375,
          18.753353118896484,
          20.648584365844727,
          13.381399154663086,
          23.266685485839844,
          18.47650909423828,
          13.698983192443848,
          18.018138885498047,
          14.634949684143066,
          19.773988723754883,
          21.28266143798828,
          16.923511505126953,
          22.684659957885742,
          16.79302406311035,
          15.93431282043457,
          11.643214225769043,
          14.200420379638672,
          19.0036563873291,
          20.55986785888672,
          18.037736892700195,
          17.662975311279297,
          18.488445281982422,
          12.647980690002441,
          19.69422149658203,
          16.55719566345215,
          18.449214935302734,
          15.41137981414795,
          21.244487762451172,
          17.939870834350586,
          18.204113006591797,
          11.73298168182373,
          16.8967342376709,
          16.098934173583984,
          16.589046478271484,
          19.18218231201172,
          18.025440216064453,
          17.518421173095703,
          21.69776725769043,
          17.609699249267578,
          16.036846160888672,
          15.936010360717773,
          16.818313598632812,
          16.33380699157715,
          16.985198974609375,
          20.502355575561523,
          17.747648239135742,
          20.429508209228516,
          14.134888648986816,
          14.213388442993164,
          11.035802841186523,
          19.56758689880371,
          18.72066307067871,
          20.99063491821289,
          18.352771759033203,
          16.91859245300293,
          16.560914993286133,
          15.793855667114258,
          16.661951065063477,
          20.619882583618164,
          5.471572399139404,
          16.621278762817383,
          16.005340576171875,
          15.35779857635498,
          19.208242416381836,
          23.950265884399414,
          18.466825485229492,
          11.853946685791016,
          17.829402923583984,
          1.4093847274780273,
          11.114177703857422,
          20.295373916625977,
          19.33527183532715,
          17.66192054748535,
          15.494316101074219,
          16.66554069519043,
          18.483701705932617,
          21.07680892944336,
          18.28055191040039,
          15.424721717834473,
          13.178550720214844,
          22.619140625
         ],
         "yaxis": "y"
        },
        {
         "hovertemplate": "variable=Test Data<br>index=%{x}<br>value=%{y}<extra></extra>",
         "legendgroup": "Test Data",
         "line": {
          "color": "#EF553B",
          "dash": "solid"
         },
         "mode": "lines",
         "name": "Test Data",
         "orientation": "v",
         "showlegend": true,
         "type": "scatter",
         "x": [
          1100,
          1101,
          1102,
          1103,
          1104,
          1105,
          1106,
          1107,
          1108,
          1109,
          1110,
          1111,
          1112,
          1113,
          1114,
          1115,
          1116,
          1117,
          1118,
          1119,
          1120,
          1121,
          1122,
          1123,
          1124,
          1125,
          1126,
          1127,
          1128,
          1129,
          1130,
          1131,
          1132,
          1133,
          1134,
          1135,
          1136,
          1137,
          1138,
          1139,
          1140,
          1141,
          1142,
          1143,
          1144,
          1145,
          1146,
          1147,
          1148,
          1149,
          1150,
          1151,
          1152,
          1153,
          1154,
          1155,
          1156,
          1157,
          1158,
          1159,
          1160,
          1161,
          1162,
          1163,
          1164,
          1165,
          1166,
          1167,
          1168,
          1169,
          1170,
          1171,
          1172,
          1173,
          1174,
          1175,
          1176,
          1177,
          1178,
          1179,
          1180,
          1181,
          1182,
          1183,
          1184,
          1185,
          1186,
          1187,
          1188,
          1189,
          1190,
          1191,
          1192,
          1193,
          1194,
          1195,
          1196,
          1197,
          1198,
          1199
         ],
         "xaxis": "x",
         "y": [
          23.31,
          24.98,
          19.3,
          17.94,
          25.01,
          18.65,
          20.67,
          9.23,
          22.18,
          9.12,
          6.07,
          21.73,
          13.85,
          21.73,
          6.07,
          10.68,
          29.31,
          34.77,
          23.95,
          22.19,
          19.19,
          17.57,
          15.71,
          21.41,
          7.77,
          20.22,
          8.45,
          15.03,
          10.5,
          20.37,
          16.33,
          21.95,
          13.76,
          21.95,
          17.98,
          21.51,
          27.26,
          8.07,
          25.98,
          14.83,
          20.87,
          13.79,
          13.49,
          19.79,
          13,
          6.06,
          24.53,
          10.39,
          5.2,
          19.09,
          19.9,
          22,
          17.98,
          14.83,
          22.7,
          10.96,
          42.1,
          18.85,
          18.43,
          11.5,
          18.11,
          28.13,
          15.61,
          17.66,
          20.02,
          19.38,
          14.58,
          13.03,
          8.45,
          15.61,
          24.21,
          21.08,
          5.24,
          20.41,
          24.21,
          25.49,
          18.89,
          11.4,
          7.8,
          24.83,
          25.21,
          20.89,
          12.58,
          19.17,
          11.56,
          11.48,
          8.72,
          1.53,
          8.72,
          25.15,
          15.23,
          11.48,
          15.87,
          11.69,
          21.03,
          17.34,
          27.04,
          15.23,
          11.16,
          17.11
         ],
         "yaxis": "y"
        }
       ],
       "layout": {
        "legend": {
         "title": {
          "text": "variable"
         },
         "tracegroupgap": 0
        },
        "margin": {
         "t": 60
        },
        "template": {
         "data": {
          "bar": [
           {
            "error_x": {
             "color": "#2a3f5f"
            },
            "error_y": {
             "color": "#2a3f5f"
            },
            "marker": {
             "line": {
              "color": "#E5ECF6",
              "width": 0.5
             }
            },
            "type": "bar"
           }
          ],
          "barpolar": [
           {
            "marker": {
             "line": {
              "color": "#E5ECF6",
              "width": 0.5
             }
            },
            "type": "barpolar"
           }
          ],
          "carpet": [
           {
            "aaxis": {
             "endlinecolor": "#2a3f5f",
             "gridcolor": "white",
             "linecolor": "white",
             "minorgridcolor": "white",
             "startlinecolor": "#2a3f5f"
            },
            "baxis": {
             "endlinecolor": "#2a3f5f",
             "gridcolor": "white",
             "linecolor": "white",
             "minorgridcolor": "white",
             "startlinecolor": "#2a3f5f"
            },
            "type": "carpet"
           }
          ],
          "choropleth": [
           {
            "colorbar": {
             "outlinewidth": 0,
             "ticks": ""
            },
            "type": "choropleth"
           }
          ],
          "contour": [
           {
            "colorbar": {
             "outlinewidth": 0,
             "ticks": ""
            },
            "colorscale": [
             [
              0,
              "#0d0887"
             ],
             [
              0.1111111111111111,
              "#46039f"
             ],
             [
              0.2222222222222222,
              "#7201a8"
             ],
             [
              0.3333333333333333,
              "#9c179e"
             ],
             [
              0.4444444444444444,
              "#bd3786"
             ],
             [
              0.5555555555555556,
              "#d8576b"
             ],
             [
              0.6666666666666666,
              "#ed7953"
             ],
             [
              0.7777777777777778,
              "#fb9f3a"
             ],
             [
              0.8888888888888888,
              "#fdca26"
             ],
             [
              1,
              "#f0f921"
             ]
            ],
            "type": "contour"
           }
          ],
          "contourcarpet": [
           {
            "colorbar": {
             "outlinewidth": 0,
             "ticks": ""
            },
            "type": "contourcarpet"
           }
          ],
          "heatmap": [
           {
            "colorbar": {
             "outlinewidth": 0,
             "ticks": ""
            },
            "colorscale": [
             [
              0,
              "#0d0887"
             ],
             [
              0.1111111111111111,
              "#46039f"
             ],
             [
              0.2222222222222222,
              "#7201a8"
             ],
             [
              0.3333333333333333,
              "#9c179e"
             ],
             [
              0.4444444444444444,
              "#bd3786"
             ],
             [
              0.5555555555555556,
              "#d8576b"
             ],
             [
              0.6666666666666666,
              "#ed7953"
             ],
             [
              0.7777777777777778,
              "#fb9f3a"
             ],
             [
              0.8888888888888888,
              "#fdca26"
             ],
             [
              1,
              "#f0f921"
             ]
            ],
            "type": "heatmap"
           }
          ],
          "heatmapgl": [
           {
            "colorbar": {
             "outlinewidth": 0,
             "ticks": ""
            },
            "colorscale": [
             [
              0,
              "#0d0887"
             ],
             [
              0.1111111111111111,
              "#46039f"
             ],
             [
              0.2222222222222222,
              "#7201a8"
             ],
             [
              0.3333333333333333,
              "#9c179e"
             ],
             [
              0.4444444444444444,
              "#bd3786"
             ],
             [
              0.5555555555555556,
              "#d8576b"
             ],
             [
              0.6666666666666666,
              "#ed7953"
             ],
             [
              0.7777777777777778,
              "#fb9f3a"
             ],
             [
              0.8888888888888888,
              "#fdca26"
             ],
             [
              1,
              "#f0f921"
             ]
            ],
            "type": "heatmapgl"
           }
          ],
          "histogram": [
           {
            "marker": {
             "colorbar": {
              "outlinewidth": 0,
              "ticks": ""
             }
            },
            "type": "histogram"
           }
          ],
          "histogram2d": [
           {
            "colorbar": {
             "outlinewidth": 0,
             "ticks": ""
            },
            "colorscale": [
             [
              0,
              "#0d0887"
             ],
             [
              0.1111111111111111,
              "#46039f"
             ],
             [
              0.2222222222222222,
              "#7201a8"
             ],
             [
              0.3333333333333333,
              "#9c179e"
             ],
             [
              0.4444444444444444,
              "#bd3786"
             ],
             [
              0.5555555555555556,
              "#d8576b"
             ],
             [
              0.6666666666666666,
              "#ed7953"
             ],
             [
              0.7777777777777778,
              "#fb9f3a"
             ],
             [
              0.8888888888888888,
              "#fdca26"
             ],
             [
              1,
              "#f0f921"
             ]
            ],
            "type": "histogram2d"
           }
          ],
          "histogram2dcontour": [
           {
            "colorbar": {
             "outlinewidth": 0,
             "ticks": ""
            },
            "colorscale": [
             [
              0,
              "#0d0887"
             ],
             [
              0.1111111111111111,
              "#46039f"
             ],
             [
              0.2222222222222222,
              "#7201a8"
             ],
             [
              0.3333333333333333,
              "#9c179e"
             ],
             [
              0.4444444444444444,
              "#bd3786"
             ],
             [
              0.5555555555555556,
              "#d8576b"
             ],
             [
              0.6666666666666666,
              "#ed7953"
             ],
             [
              0.7777777777777778,
              "#fb9f3a"
             ],
             [
              0.8888888888888888,
              "#fdca26"
             ],
             [
              1,
              "#f0f921"
             ]
            ],
            "type": "histogram2dcontour"
           }
          ],
          "mesh3d": [
           {
            "colorbar": {
             "outlinewidth": 0,
             "ticks": ""
            },
            "type": "mesh3d"
           }
          ],
          "parcoords": [
           {
            "line": {
             "colorbar": {
              "outlinewidth": 0,
              "ticks": ""
             }
            },
            "type": "parcoords"
           }
          ],
          "pie": [
           {
            "automargin": true,
            "type": "pie"
           }
          ],
          "scatter": [
           {
            "marker": {
             "colorbar": {
              "outlinewidth": 0,
              "ticks": ""
             }
            },
            "type": "scatter"
           }
          ],
          "scatter3d": [
           {
            "line": {
             "colorbar": {
              "outlinewidth": 0,
              "ticks": ""
             }
            },
            "marker": {
             "colorbar": {
              "outlinewidth": 0,
              "ticks": ""
             }
            },
            "type": "scatter3d"
           }
          ],
          "scattercarpet": [
           {
            "marker": {
             "colorbar": {
              "outlinewidth": 0,
              "ticks": ""
             }
            },
            "type": "scattercarpet"
           }
          ],
          "scattergeo": [
           {
            "marker": {
             "colorbar": {
              "outlinewidth": 0,
              "ticks": ""
             }
            },
            "type": "scattergeo"
           }
          ],
          "scattergl": [
           {
            "marker": {
             "colorbar": {
              "outlinewidth": 0,
              "ticks": ""
             }
            },
            "type": "scattergl"
           }
          ],
          "scattermapbox": [
           {
            "marker": {
             "colorbar": {
              "outlinewidth": 0,
              "ticks": ""
             }
            },
            "type": "scattermapbox"
           }
          ],
          "scatterpolar": [
           {
            "marker": {
             "colorbar": {
              "outlinewidth": 0,
              "ticks": ""
             }
            },
            "type": "scatterpolar"
           }
          ],
          "scatterpolargl": [
           {
            "marker": {
             "colorbar": {
              "outlinewidth": 0,
              "ticks": ""
             }
            },
            "type": "scatterpolargl"
           }
          ],
          "scatterternary": [
           {
            "marker": {
             "colorbar": {
              "outlinewidth": 0,
              "ticks": ""
             }
            },
            "type": "scatterternary"
           }
          ],
          "surface": [
           {
            "colorbar": {
             "outlinewidth": 0,
             "ticks": ""
            },
            "colorscale": [
             [
              0,
              "#0d0887"
             ],
             [
              0.1111111111111111,
              "#46039f"
             ],
             [
              0.2222222222222222,
              "#7201a8"
             ],
             [
              0.3333333333333333,
              "#9c179e"
             ],
             [
              0.4444444444444444,
              "#bd3786"
             ],
             [
              0.5555555555555556,
              "#d8576b"
             ],
             [
              0.6666666666666666,
              "#ed7953"
             ],
             [
              0.7777777777777778,
              "#fb9f3a"
             ],
             [
              0.8888888888888888,
              "#fdca26"
             ],
             [
              1,
              "#f0f921"
             ]
            ],
            "type": "surface"
           }
          ],
          "table": [
           {
            "cells": {
             "fill": {
              "color": "#EBF0F8"
             },
             "line": {
              "color": "white"
             }
            },
            "header": {
             "fill": {
              "color": "#C8D4E3"
             },
             "line": {
              "color": "white"
             }
            },
            "type": "table"
           }
          ]
         },
         "layout": {
          "annotationdefaults": {
           "arrowcolor": "#2a3f5f",
           "arrowhead": 0,
           "arrowwidth": 1
          },
          "autotypenumbers": "strict",
          "coloraxis": {
           "colorbar": {
            "outlinewidth": 0,
            "ticks": ""
           }
          },
          "colorscale": {
           "diverging": [
            [
             0,
             "#8e0152"
            ],
            [
             0.1,
             "#c51b7d"
            ],
            [
             0.2,
             "#de77ae"
            ],
            [
             0.3,
             "#f1b6da"
            ],
            [
             0.4,
             "#fde0ef"
            ],
            [
             0.5,
             "#f7f7f7"
            ],
            [
             0.6,
             "#e6f5d0"
            ],
            [
             0.7,
             "#b8e186"
            ],
            [
             0.8,
             "#7fbc41"
            ],
            [
             0.9,
             "#4d9221"
            ],
            [
             1,
             "#276419"
            ]
           ],
           "sequential": [
            [
             0,
             "#0d0887"
            ],
            [
             0.1111111111111111,
             "#46039f"
            ],
            [
             0.2222222222222222,
             "#7201a8"
            ],
            [
             0.3333333333333333,
             "#9c179e"
            ],
            [
             0.4444444444444444,
             "#bd3786"
            ],
            [
             0.5555555555555556,
             "#d8576b"
            ],
            [
             0.6666666666666666,
             "#ed7953"
            ],
            [
             0.7777777777777778,
             "#fb9f3a"
            ],
            [
             0.8888888888888888,
             "#fdca26"
            ],
            [
             1,
             "#f0f921"
            ]
           ],
           "sequentialminus": [
            [
             0,
             "#0d0887"
            ],
            [
             0.1111111111111111,
             "#46039f"
            ],
            [
             0.2222222222222222,
             "#7201a8"
            ],
            [
             0.3333333333333333,
             "#9c179e"
            ],
            [
             0.4444444444444444,
             "#bd3786"
            ],
            [
             0.5555555555555556,
             "#d8576b"
            ],
            [
             0.6666666666666666,
             "#ed7953"
            ],
            [
             0.7777777777777778,
             "#fb9f3a"
            ],
            [
             0.8888888888888888,
             "#fdca26"
            ],
            [
             1,
             "#f0f921"
            ]
           ]
          },
          "colorway": [
           "#636efa",
           "#EF553B",
           "#00cc96",
           "#ab63fa",
           "#FFA15A",
           "#19d3f3",
           "#FF6692",
           "#B6E880",
           "#FF97FF",
           "#FECB52"
          ],
          "font": {
           "color": "#2a3f5f"
          },
          "geo": {
           "bgcolor": "white",
           "lakecolor": "white",
           "landcolor": "#E5ECF6",
           "showlakes": true,
           "showland": true,
           "subunitcolor": "white"
          },
          "hoverlabel": {
           "align": "left"
          },
          "hovermode": "closest",
          "mapbox": {
           "style": "light"
          },
          "paper_bgcolor": "white",
          "plot_bgcolor": "#E5ECF6",
          "polar": {
           "angularaxis": {
            "gridcolor": "white",
            "linecolor": "white",
            "ticks": ""
           },
           "bgcolor": "#E5ECF6",
           "radialaxis": {
            "gridcolor": "white",
            "linecolor": "white",
            "ticks": ""
           }
          },
          "scene": {
           "xaxis": {
            "backgroundcolor": "#E5ECF6",
            "gridcolor": "white",
            "gridwidth": 2,
            "linecolor": "white",
            "showbackground": true,
            "ticks": "",
            "zerolinecolor": "white"
           },
           "yaxis": {
            "backgroundcolor": "#E5ECF6",
            "gridcolor": "white",
            "gridwidth": 2,
            "linecolor": "white",
            "showbackground": true,
            "ticks": "",
            "zerolinecolor": "white"
           },
           "zaxis": {
            "backgroundcolor": "#E5ECF6",
            "gridcolor": "white",
            "gridwidth": 2,
            "linecolor": "white",
            "showbackground": true,
            "ticks": "",
            "zerolinecolor": "white"
           }
          },
          "shapedefaults": {
           "line": {
            "color": "#2a3f5f"
           }
          },
          "ternary": {
           "aaxis": {
            "gridcolor": "white",
            "linecolor": "white",
            "ticks": ""
           },
           "baxis": {
            "gridcolor": "white",
            "linecolor": "white",
            "ticks": ""
           },
           "bgcolor": "#E5ECF6",
           "caxis": {
            "gridcolor": "white",
            "linecolor": "white",
            "ticks": ""
           }
          },
          "title": {
           "x": 0.05
          },
          "xaxis": {
           "automargin": true,
           "gridcolor": "white",
           "linecolor": "white",
           "ticks": "",
           "title": {
            "standoff": 15
           },
           "zerolinecolor": "white",
           "zerolinewidth": 2
          },
          "yaxis": {
           "automargin": true,
           "gridcolor": "white",
           "linecolor": "white",
           "ticks": "",
           "title": {
            "standoff": 15
           },
           "zerolinecolor": "white",
           "zerolinewidth": 2
          }
         }
        },
        "xaxis": {
         "anchor": "y",
         "domain": [
          0,
          1
         ],
         "title": {
          "text": "index"
         }
        },
        "yaxis": {
         "anchor": "x",
         "domain": [
          0,
          1
         ],
         "title": {
          "text": "value"
         }
        }
       }
      },
      "text/html": [
       "<div>                            <div id=\"a1a85566-593b-4e9f-aad4-d9bf8347c2ec\" class=\"plotly-graph-div\" style=\"height:525px; width:100%;\"></div>            <script type=\"text/javascript\">                require([\"plotly\"], function(Plotly) {                    window.PLOTLYENV=window.PLOTLYENV || {};                                    if (document.getElementById(\"a1a85566-593b-4e9f-aad4-d9bf8347c2ec\")) {                    Plotly.newPlot(                        \"a1a85566-593b-4e9f-aad4-d9bf8347c2ec\",                        [{\"hovertemplate\": \"variable=Y_pred<br>index=%{x}<br>value=%{y}<extra></extra>\", \"legendgroup\": \"Y_pred\", \"line\": {\"color\": \"#636efa\", \"dash\": \"solid\"}, \"mode\": \"lines\", \"name\": \"Y_pred\", \"orientation\": \"v\", \"showlegend\": true, \"type\": \"scatter\", \"x\": [1100, 1101, 1102, 1103, 1104, 1105, 1106, 1107, 1108, 1109, 1110, 1111, 1112, 1113, 1114, 1115, 1116, 1117, 1118, 1119, 1120, 1121, 1122, 1123, 1124, 1125, 1126, 1127, 1128, 1129, 1130, 1131, 1132, 1133, 1134, 1135, 1136, 1137, 1138, 1139, 1140, 1141, 1142, 1143, 1144, 1145, 1146, 1147, 1148, 1149, 1150, 1151, 1152, 1153, 1154, 1155, 1156, 1157, 1158, 1159, 1160, 1161, 1162, 1163, 1164, 1165, 1166, 1167, 1168, 1169, 1170, 1171, 1172, 1173, 1174, 1175, 1176, 1177, 1178, 1179, 1180, 1181, 1182, 1183, 1184, 1185, 1186, 1187, 1188, 1189, 1190, 1191, 1192, 1193, 1194, 1195, 1196, 1197, 1198, 1199], \"xaxis\": \"x\", \"y\": [21.62000846862793, 14.07679271697998, 17.850112915039062, 19.204198837280273, 15.8219575881958, 19.4769287109375, 23.557096481323242, 17.85906982421875, 21.822111129760742, 15.641828536987305, 6.5948309898376465, 22.256399154663086, 18.610811233520508, 22.256399154663086, 4.79974365234375, 18.7546443939209, 16.338207244873047, 17.226842880249023, 14.661712646484375, 15.2923583984375, 18.753353118896484, 20.648584365844727, 13.381399154663086, 23.266685485839844, 18.47650909423828, 13.698983192443848, 18.018138885498047, 14.634949684143066, 19.773988723754883, 21.28266143798828, 16.923511505126953, 22.684659957885742, 16.79302406311035, 15.93431282043457, 11.643214225769043, 14.200420379638672, 19.0036563873291, 20.55986785888672, 18.037736892700195, 17.662975311279297, 18.488445281982422, 12.647980690002441, 19.69422149658203, 16.55719566345215, 18.449214935302734, 15.41137981414795, 21.244487762451172, 17.939870834350586, 18.204113006591797, 11.73298168182373, 16.8967342376709, 16.098934173583984, 16.589046478271484, 19.18218231201172, 18.025440216064453, 17.518421173095703, 21.69776725769043, 17.609699249267578, 16.036846160888672, 15.936010360717773, 16.818313598632812, 16.33380699157715, 16.985198974609375, 20.502355575561523, 17.747648239135742, 20.429508209228516, 14.134888648986816, 14.213388442993164, 11.035802841186523, 19.56758689880371, 18.72066307067871, 20.99063491821289, 18.352771759033203, 16.91859245300293, 16.560914993286133, 15.793855667114258, 16.661951065063477, 20.619882583618164, 5.471572399139404, 16.621278762817383, 16.005340576171875, 15.35779857635498, 19.208242416381836, 23.950265884399414, 18.466825485229492, 11.853946685791016, 17.829402923583984, 1.4093847274780273, 11.114177703857422, 20.295373916625977, 19.33527183532715, 17.66192054748535, 15.494316101074219, 16.66554069519043, 18.483701705932617, 21.07680892944336, 18.28055191040039, 15.424721717834473, 13.178550720214844, 22.619140625], \"yaxis\": \"y\"}, {\"hovertemplate\": \"variable=Test Data<br>index=%{x}<br>value=%{y}<extra></extra>\", \"legendgroup\": \"Test Data\", \"line\": {\"color\": \"#EF553B\", \"dash\": \"solid\"}, \"mode\": \"lines\", \"name\": \"Test Data\", \"orientation\": \"v\", \"showlegend\": true, \"type\": \"scatter\", \"x\": [1100, 1101, 1102, 1103, 1104, 1105, 1106, 1107, 1108, 1109, 1110, 1111, 1112, 1113, 1114, 1115, 1116, 1117, 1118, 1119, 1120, 1121, 1122, 1123, 1124, 1125, 1126, 1127, 1128, 1129, 1130, 1131, 1132, 1133, 1134, 1135, 1136, 1137, 1138, 1139, 1140, 1141, 1142, 1143, 1144, 1145, 1146, 1147, 1148, 1149, 1150, 1151, 1152, 1153, 1154, 1155, 1156, 1157, 1158, 1159, 1160, 1161, 1162, 1163, 1164, 1165, 1166, 1167, 1168, 1169, 1170, 1171, 1172, 1173, 1174, 1175, 1176, 1177, 1178, 1179, 1180, 1181, 1182, 1183, 1184, 1185, 1186, 1187, 1188, 1189, 1190, 1191, 1192, 1193, 1194, 1195, 1196, 1197, 1198, 1199], \"xaxis\": \"x\", \"y\": [23.31, 24.98, 19.3, 17.94, 25.01, 18.65, 20.67, 9.23, 22.18, 9.12, 6.07, 21.73, 13.85, 21.73, 6.07, 10.68, 29.31, 34.77, 23.95, 22.19, 19.19, 17.57, 15.71, 21.41, 7.77, 20.22, 8.45, 15.03, 10.5, 20.37, 16.33, 21.95, 13.76, 21.95, 17.98, 21.51, 27.26, 8.07, 25.98, 14.83, 20.87, 13.79, 13.49, 19.79, 13.0, 6.06, 24.53, 10.39, 5.2, 19.09, 19.9, 22.0, 17.98, 14.83, 22.7, 10.96, 42.1, 18.85, 18.43, 11.5, 18.11, 28.13, 15.61, 17.66, 20.02, 19.38, 14.58, 13.03, 8.45, 15.61, 24.21, 21.08, 5.24, 20.41, 24.21, 25.49, 18.89, 11.4, 7.8, 24.83, 25.21, 20.89, 12.58, 19.17, 11.56, 11.48, 8.72, 1.53, 8.72, 25.15, 15.23, 11.48, 15.87, 11.69, 21.03, 17.34, 27.04, 15.23, 11.16, 17.11], \"yaxis\": \"y\"}],                        {\"legend\": {\"title\": {\"text\": \"variable\"}, \"tracegroupgap\": 0}, \"margin\": {\"t\": 60}, \"template\": {\"data\": {\"bar\": [{\"error_x\": {\"color\": \"#2a3f5f\"}, \"error_y\": {\"color\": \"#2a3f5f\"}, \"marker\": {\"line\": {\"color\": \"#E5ECF6\", \"width\": 0.5}}, \"type\": \"bar\"}], \"barpolar\": [{\"marker\": {\"line\": {\"color\": \"#E5ECF6\", \"width\": 0.5}}, \"type\": \"barpolar\"}], \"carpet\": [{\"aaxis\": {\"endlinecolor\": \"#2a3f5f\", \"gridcolor\": \"white\", \"linecolor\": \"white\", \"minorgridcolor\": \"white\", \"startlinecolor\": \"#2a3f5f\"}, \"baxis\": {\"endlinecolor\": \"#2a3f5f\", \"gridcolor\": \"white\", \"linecolor\": \"white\", \"minorgridcolor\": \"white\", \"startlinecolor\": \"#2a3f5f\"}, \"type\": \"carpet\"}], \"choropleth\": [{\"colorbar\": {\"outlinewidth\": 0, \"ticks\": \"\"}, \"type\": \"choropleth\"}], \"contour\": [{\"colorbar\": {\"outlinewidth\": 0, \"ticks\": \"\"}, \"colorscale\": [[0.0, \"#0d0887\"], [0.1111111111111111, \"#46039f\"], [0.2222222222222222, \"#7201a8\"], [0.3333333333333333, \"#9c179e\"], [0.4444444444444444, \"#bd3786\"], [0.5555555555555556, \"#d8576b\"], [0.6666666666666666, \"#ed7953\"], [0.7777777777777778, \"#fb9f3a\"], [0.8888888888888888, \"#fdca26\"], [1.0, \"#f0f921\"]], \"type\": \"contour\"}], \"contourcarpet\": [{\"colorbar\": {\"outlinewidth\": 0, \"ticks\": \"\"}, \"type\": \"contourcarpet\"}], \"heatmap\": [{\"colorbar\": {\"outlinewidth\": 0, \"ticks\": \"\"}, \"colorscale\": [[0.0, \"#0d0887\"], [0.1111111111111111, \"#46039f\"], [0.2222222222222222, \"#7201a8\"], [0.3333333333333333, \"#9c179e\"], [0.4444444444444444, \"#bd3786\"], [0.5555555555555556, \"#d8576b\"], [0.6666666666666666, \"#ed7953\"], [0.7777777777777778, \"#fb9f3a\"], [0.8888888888888888, \"#fdca26\"], [1.0, \"#f0f921\"]], \"type\": \"heatmap\"}], \"heatmapgl\": [{\"colorbar\": {\"outlinewidth\": 0, \"ticks\": \"\"}, \"colorscale\": [[0.0, \"#0d0887\"], [0.1111111111111111, \"#46039f\"], [0.2222222222222222, \"#7201a8\"], [0.3333333333333333, \"#9c179e\"], [0.4444444444444444, \"#bd3786\"], [0.5555555555555556, \"#d8576b\"], [0.6666666666666666, \"#ed7953\"], [0.7777777777777778, \"#fb9f3a\"], [0.8888888888888888, \"#fdca26\"], [1.0, \"#f0f921\"]], \"type\": \"heatmapgl\"}], \"histogram\": [{\"marker\": {\"colorbar\": {\"outlinewidth\": 0, \"ticks\": \"\"}}, \"type\": \"histogram\"}], \"histogram2d\": [{\"colorbar\": {\"outlinewidth\": 0, \"ticks\": \"\"}, \"colorscale\": [[0.0, \"#0d0887\"], [0.1111111111111111, \"#46039f\"], [0.2222222222222222, \"#7201a8\"], [0.3333333333333333, \"#9c179e\"], [0.4444444444444444, \"#bd3786\"], [0.5555555555555556, \"#d8576b\"], [0.6666666666666666, \"#ed7953\"], [0.7777777777777778, \"#fb9f3a\"], [0.8888888888888888, \"#fdca26\"], [1.0, \"#f0f921\"]], \"type\": \"histogram2d\"}], \"histogram2dcontour\": [{\"colorbar\": {\"outlinewidth\": 0, \"ticks\": \"\"}, \"colorscale\": [[0.0, \"#0d0887\"], [0.1111111111111111, \"#46039f\"], [0.2222222222222222, \"#7201a8\"], [0.3333333333333333, \"#9c179e\"], [0.4444444444444444, \"#bd3786\"], [0.5555555555555556, \"#d8576b\"], [0.6666666666666666, \"#ed7953\"], [0.7777777777777778, \"#fb9f3a\"], [0.8888888888888888, \"#fdca26\"], [1.0, \"#f0f921\"]], \"type\": \"histogram2dcontour\"}], \"mesh3d\": [{\"colorbar\": {\"outlinewidth\": 0, \"ticks\": \"\"}, \"type\": \"mesh3d\"}], \"parcoords\": [{\"line\": {\"colorbar\": {\"outlinewidth\": 0, \"ticks\": \"\"}}, \"type\": \"parcoords\"}], \"pie\": [{\"automargin\": true, \"type\": \"pie\"}], \"scatter\": [{\"marker\": {\"colorbar\": {\"outlinewidth\": 0, \"ticks\": \"\"}}, \"type\": \"scatter\"}], \"scatter3d\": [{\"line\": {\"colorbar\": {\"outlinewidth\": 0, \"ticks\": \"\"}}, \"marker\": {\"colorbar\": {\"outlinewidth\": 0, \"ticks\": \"\"}}, \"type\": \"scatter3d\"}], \"scattercarpet\": [{\"marker\": {\"colorbar\": {\"outlinewidth\": 0, \"ticks\": \"\"}}, \"type\": \"scattercarpet\"}], \"scattergeo\": [{\"marker\": {\"colorbar\": {\"outlinewidth\": 0, \"ticks\": \"\"}}, \"type\": \"scattergeo\"}], \"scattergl\": [{\"marker\": {\"colorbar\": {\"outlinewidth\": 0, \"ticks\": \"\"}}, \"type\": \"scattergl\"}], \"scattermapbox\": [{\"marker\": {\"colorbar\": {\"outlinewidth\": 0, \"ticks\": \"\"}}, \"type\": \"scattermapbox\"}], \"scatterpolar\": [{\"marker\": {\"colorbar\": {\"outlinewidth\": 0, \"ticks\": \"\"}}, \"type\": \"scatterpolar\"}], \"scatterpolargl\": [{\"marker\": {\"colorbar\": {\"outlinewidth\": 0, \"ticks\": \"\"}}, \"type\": \"scatterpolargl\"}], \"scatterternary\": [{\"marker\": {\"colorbar\": {\"outlinewidth\": 0, \"ticks\": \"\"}}, \"type\": \"scatterternary\"}], \"surface\": [{\"colorbar\": {\"outlinewidth\": 0, \"ticks\": \"\"}, \"colorscale\": [[0.0, \"#0d0887\"], [0.1111111111111111, \"#46039f\"], [0.2222222222222222, \"#7201a8\"], [0.3333333333333333, \"#9c179e\"], [0.4444444444444444, \"#bd3786\"], [0.5555555555555556, \"#d8576b\"], [0.6666666666666666, \"#ed7953\"], [0.7777777777777778, \"#fb9f3a\"], [0.8888888888888888, \"#fdca26\"], [1.0, \"#f0f921\"]], \"type\": \"surface\"}], \"table\": [{\"cells\": {\"fill\": {\"color\": \"#EBF0F8\"}, \"line\": {\"color\": \"white\"}}, \"header\": {\"fill\": {\"color\": \"#C8D4E3\"}, \"line\": {\"color\": \"white\"}}, \"type\": \"table\"}]}, \"layout\": {\"annotationdefaults\": {\"arrowcolor\": \"#2a3f5f\", \"arrowhead\": 0, \"arrowwidth\": 1}, \"autotypenumbers\": \"strict\", \"coloraxis\": {\"colorbar\": {\"outlinewidth\": 0, \"ticks\": \"\"}}, \"colorscale\": {\"diverging\": [[0, \"#8e0152\"], [0.1, \"#c51b7d\"], [0.2, \"#de77ae\"], [0.3, \"#f1b6da\"], [0.4, \"#fde0ef\"], [0.5, \"#f7f7f7\"], [0.6, \"#e6f5d0\"], [0.7, \"#b8e186\"], [0.8, \"#7fbc41\"], [0.9, \"#4d9221\"], [1, \"#276419\"]], \"sequential\": [[0.0, \"#0d0887\"], [0.1111111111111111, \"#46039f\"], [0.2222222222222222, \"#7201a8\"], [0.3333333333333333, \"#9c179e\"], [0.4444444444444444, \"#bd3786\"], [0.5555555555555556, \"#d8576b\"], [0.6666666666666666, \"#ed7953\"], [0.7777777777777778, \"#fb9f3a\"], [0.8888888888888888, \"#fdca26\"], [1.0, \"#f0f921\"]], \"sequentialminus\": [[0.0, \"#0d0887\"], [0.1111111111111111, \"#46039f\"], [0.2222222222222222, \"#7201a8\"], [0.3333333333333333, \"#9c179e\"], [0.4444444444444444, \"#bd3786\"], [0.5555555555555556, \"#d8576b\"], [0.6666666666666666, \"#ed7953\"], [0.7777777777777778, \"#fb9f3a\"], [0.8888888888888888, \"#fdca26\"], [1.0, \"#f0f921\"]]}, \"colorway\": [\"#636efa\", \"#EF553B\", \"#00cc96\", \"#ab63fa\", \"#FFA15A\", \"#19d3f3\", \"#FF6692\", \"#B6E880\", \"#FF97FF\", \"#FECB52\"], \"font\": {\"color\": \"#2a3f5f\"}, \"geo\": {\"bgcolor\": \"white\", \"lakecolor\": \"white\", \"landcolor\": \"#E5ECF6\", \"showlakes\": true, \"showland\": true, \"subunitcolor\": \"white\"}, \"hoverlabel\": {\"align\": \"left\"}, \"hovermode\": \"closest\", \"mapbox\": {\"style\": \"light\"}, \"paper_bgcolor\": \"white\", \"plot_bgcolor\": \"#E5ECF6\", \"polar\": {\"angularaxis\": {\"gridcolor\": \"white\", \"linecolor\": \"white\", \"ticks\": \"\"}, \"bgcolor\": \"#E5ECF6\", \"radialaxis\": {\"gridcolor\": \"white\", \"linecolor\": \"white\", \"ticks\": \"\"}}, \"scene\": {\"xaxis\": {\"backgroundcolor\": \"#E5ECF6\", \"gridcolor\": \"white\", \"gridwidth\": 2, \"linecolor\": \"white\", \"showbackground\": true, \"ticks\": \"\", \"zerolinecolor\": \"white\"}, \"yaxis\": {\"backgroundcolor\": \"#E5ECF6\", \"gridcolor\": \"white\", \"gridwidth\": 2, \"linecolor\": \"white\", \"showbackground\": true, \"ticks\": \"\", \"zerolinecolor\": \"white\"}, \"zaxis\": {\"backgroundcolor\": \"#E5ECF6\", \"gridcolor\": \"white\", \"gridwidth\": 2, \"linecolor\": \"white\", \"showbackground\": true, \"ticks\": \"\", \"zerolinecolor\": \"white\"}}, \"shapedefaults\": {\"line\": {\"color\": \"#2a3f5f\"}}, \"ternary\": {\"aaxis\": {\"gridcolor\": \"white\", \"linecolor\": \"white\", \"ticks\": \"\"}, \"baxis\": {\"gridcolor\": \"white\", \"linecolor\": \"white\", \"ticks\": \"\"}, \"bgcolor\": \"#E5ECF6\", \"caxis\": {\"gridcolor\": \"white\", \"linecolor\": \"white\", \"ticks\": \"\"}}, \"title\": {\"x\": 0.05}, \"xaxis\": {\"automargin\": true, \"gridcolor\": \"white\", \"linecolor\": \"white\", \"ticks\": \"\", \"title\": {\"standoff\": 15}, \"zerolinecolor\": \"white\", \"zerolinewidth\": 2}, \"yaxis\": {\"automargin\": true, \"gridcolor\": \"white\", \"linecolor\": \"white\", \"ticks\": \"\", \"title\": {\"standoff\": 15}, \"zerolinecolor\": \"white\", \"zerolinewidth\": 2}}}, \"xaxis\": {\"anchor\": \"y\", \"domain\": [0.0, 1.0], \"title\": {\"text\": \"index\"}}, \"yaxis\": {\"anchor\": \"x\", \"domain\": [0.0, 1.0], \"title\": {\"text\": \"value\"}}},                        {\"responsive\": true}                    ).then(function(){\n",
       "                            \n",
       "var gd = document.getElementById('a1a85566-593b-4e9f-aad4-d9bf8347c2ec');\n",
       "var x = new MutationObserver(function (mutations, observer) {{\n",
       "        var display = window.getComputedStyle(gd).display;\n",
       "        if (!display || display === 'none') {{\n",
       "            console.log([gd, 'removed!']);\n",
       "            Plotly.purge(gd);\n",
       "            observer.disconnect();\n",
       "        }}\n",
       "}});\n",
       "\n",
       "// Listen for the removal of the full notebook cells\n",
       "var notebookContainer = gd.closest('#notebook-container');\n",
       "if (notebookContainer) {{\n",
       "    x.observe(notebookContainer, {childList: true});\n",
       "}}\n",
       "\n",
       "// Listen for the clearing of the current output cell\n",
       "var outputEl = gd.closest('.output');\n",
       "if (outputEl) {{\n",
       "    x.observe(outputEl, {childList: true});\n",
       "}}\n",
       "\n",
       "                        })                };                });            </script>        </div>"
      ]
     },
     "metadata": {},
     "output_type": "display_data"
    }
   ],
   "source": [
    "Y_pred = pd.DataFrame(Y_pred).rename(columns={0:\"Y_pred\"})\n",
    "# Creates a dataframe with concatenated data just to plot\n",
    "df_to_plot = pd.concat([Y_pred, Y_test], axis=1)\n",
    "\n",
    "# Plot \n",
    "fig = px.line(df_to_plot[1100:1200], y=['Y_pred', 'Test Data'])\n",
    "\n",
    "# Show plot \n",
    "fig.show()"
   ]
  },
  {
   "cell_type": "code",
   "execution_count": 34,
   "id": "d7398431",
   "metadata": {
    "scrolled": true
   },
   "outputs": [
    {
     "data": {
      "text/plain": [
       "'xgboost-2021-08-11-00-16-11-486'"
      ]
     },
     "execution_count": 34,
     "metadata": {},
     "output_type": "execute_result"
    }
   ],
   "source": [
    "xgb_predictor.endpoint"
   ]
  },
  {
   "cell_type": "markdown",
   "id": "c5bed46a",
   "metadata": {},
   "source": [
    "### Functions to preprocessing input data to predict"
   ]
  },
  {
   "cell_type": "code",
   "execution_count": null,
   "id": "13a539ef",
   "metadata": {},
   "outputs": [],
   "source": [
    "# Complete data to get all possible person ID and offers\n",
    "data_dir = 'completed_offers_transactions'\n",
    "df = pd.read_csv(data_dir+'/transactions_people_offers.csv', sep=',')\n",
    "\n",
    "def input_data_prep(df, person_id, offer_id, offer_type):\n",
    "    \"\"\"\n",
    "    Creates a encoded np.array to input into the model to get predictions.\n",
    "    \"\"\"\n",
    "    # Auxilars    \n",
    "    input_values = np.array([])\n",
    "\n",
    "    # Get person gender\n",
    "    person_gender = df['gender'].unique()[0]\n",
    "\n",
    "    values_list = [person_id, offer_id,  offer_type, person_gender]\n",
    "    input_data = np.array(values_list).reshape((1,4))\n",
    "\n",
    "    le_list = get_enconding_list(df)\n",
    "    input_values = encode_input_data(input_data, le_list)\n",
    "    \n",
    "    return input_values\n",
    "\n",
    "\n",
    "def get_enconding_list(df):\n",
    "\n",
    "    columns_to_encoding = ['person', 'offer_id', 'offer_type', 'gender']\n",
    "    le_list = []\n",
    "\n",
    "    for i in columns_to_encoding:\n",
    "        # Create an object LabelEncoder()\n",
    "        le = preprocessing.LabelEncoder()\n",
    "        # Get the list of values for the column\n",
    "        values_to_encoding = df[i].values\n",
    "        # Run the enconding for all possible values of the column\n",
    "        le.fit(values_to_encoding)\n",
    "\n",
    "        # Saves the Label Encoder Object to get inverse transform later\n",
    "        le_list.append(le)\n",
    "\n",
    "    return le_list\n",
    "\n",
    "def encode_input_data(input_data, le_list):\n",
    "    \"\"\"Encode input data to input into Estimator endpoint.\"\"\"\n",
    "    encoded_list = []\n",
    "    time_list = [0, 6, 12, 18]\n",
    "    count = 0\n",
    "    for i in range(0,4):\n",
    "        le = le_list[i]\n",
    "        df_input_values = pd.DataFrame(input_data).iloc[0, i:i+1].values\n",
    "        encoded_list.append(le.transform(df_input_values))\n",
    "    \n",
    "    encoded_input = np.array(encoded_list).reshape((1,4))\n",
    "    encoded_input = np.ones((4,1), dtype='int') * encoded_input\n",
    "    encoded_input = np.insert(encoded_input, 0, 0, axis=1)\n",
    "\n",
    "    for i in encoded_input:\n",
    "        i[0] = time_list[count]\n",
    "        count += 1\n",
    "    \n",
    "    return encoded_input"
   ]
  },
  {
   "cell_type": "code",
   "execution_count": null,
   "id": "a460445f",
   "metadata": {},
   "outputs": [],
   "source": [
    "xgb_predictor.delete_endpoint()"
   ]
  },
  {
   "cell_type": "markdown",
   "id": "a473d198",
   "metadata": {},
   "source": [
    "## Deploy the model for the web app"
   ]
  },
  {
   "cell_type": "markdown",
   "id": "f5c89293",
   "metadata": {},
   "source": [
    "Now we saw the model is working, we can write some inference code such that we can input one of the possible 4 times of the day (0, 6, 12 or 18), the offer id we will send and the person id to the web app and predict how much this person will spend in the next few days."
   ]
  },
  {
   "cell_type": "markdown",
   "id": "03b0ce73",
   "metadata": {},
   "source": [
    "<img src=\"./assets/Architecture.PNG\" width=\"600\" height=\"600\">"
   ]
  },
  {
   "cell_type": "markdown",
   "id": "2e38f289",
   "metadata": {},
   "source": [
    "## API Gateway"
   ]
  },
  {
   "cell_type": "markdown",
   "id": "5e53593f",
   "metadata": {},
   "source": [
    "<img src=\"./assets/API_Gateway.PNG\" width=\"1700\" height=\"1000\">"
   ]
  },
  {
   "cell_type": "code",
   "execution_count": null,
   "id": "2c4c2517",
   "metadata": {},
   "outputs": [],
   "source": [
    "# Api endpoint created\n",
    "API_ENDPOINT = \"https://xpfqnp3i55.execute-api.us-east-1.amazonaws.com/PROD\""
   ]
  },
  {
   "cell_type": "markdown",
   "id": "a4d7f316",
   "metadata": {},
   "source": [
    "### Lambda function"
   ]
  },
  {
   "cell_type": "code",
   "execution_count": null,
   "id": "08be11d4",
   "metadata": {},
   "outputs": [],
   "source": [
    "# We need to use the low-level library to interact with SageMaker since the SageMaker API\n",
    "# is not available natively through Lambda.\n",
    "import boto3\n",
    "\n",
    "def lambda_handler(event, context):\n",
    "\n",
    "    # The SageMaker runtime is what allows us to invoke the endpoint that we've created.\n",
    "    runtime = boto3.Session().client('sagemaker-runtime')\n",
    "\n",
    "    # Now we use the SageMaker runtime to invoke our endpoint, sending the review we were given\n",
    "    response = runtime.invoke_endpoint(EndpointName = 'xgboost-2021-08-11-00-16-11-486',    # The name of the endpoint we created\n",
    "                                       ContentType = 'text/csv',                 # The data format that is expected\n",
    "                                       Body = event['body'])                       # The actual review\n",
    "\n",
    "    # The response is an HTTP response whose body contains the result of our inference\n",
    "    result = response['Body'].read().decode('utf-8')\n",
    "\n",
    "    return {\n",
    "        'statusCode' : 200,\n",
    "        'headers' : { 'Content-Type' : 'text/plain', 'Access-Control-Allow-Origin' : '*' },\n",
    "        'body' : result\n",
    "    }"
   ]
  },
  {
   "cell_type": "markdown",
   "id": "c75a5569",
   "metadata": {},
   "source": [
    "### Results"
   ]
  },
  {
   "cell_type": "markdown",
   "id": "df4e2975",
   "metadata": {},
   "source": [
    "<img src=\"./assets/app_result_1.PNG\" width=\"500\" height=\"600\">"
   ]
  },
  {
   "cell_type": "markdown",
   "id": "c607801d",
   "metadata": {},
   "source": [
    "<img src=\"./assets/app_result_2.PNG\" width=\"500\" height=\"600\">"
   ]
  },
  {
   "cell_type": "markdown",
   "id": "92ea0efe",
   "metadata": {},
   "source": [
    "<img src=\"./assets/app_result_3.PNG\" width=\"500\" height=\"600\">"
   ]
  }
 ],
 "metadata": {
  "kernelspec": {
   "display_name": "conda_mxnet_p36",
   "language": "python",
   "name": "conda_mxnet_p36"
  },
  "language_info": {
   "codemirror_mode": {
    "name": "ipython",
    "version": 3
   },
   "file_extension": ".py",
   "mimetype": "text/x-python",
   "name": "python",
   "nbconvert_exporter": "python",
   "pygments_lexer": "ipython3",
   "version": "3.6.13"
  }
 },
 "nbformat": 4,
 "nbformat_minor": 5
}
